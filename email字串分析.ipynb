{
 "cells": [
  {
   "cell_type": "code",
   "execution_count": 3,
   "metadata": {},
   "outputs": [
    {
     "name": "stdout",
     "output_type": "stream",
     "text": [
      "12\n",
      "dennyjason67\n",
      "@gmail.com\n",
      "gmail.com\n"
     ]
    }
   ],
   "source": [
    "email=\"dennyjason67@gmail.com\"\n",
    "index=email.index(\"@\")\n",
    "print(index)\n",
    "print(email[:index])\n",
    "print(email[index:])\n",
    "print(email[index+1:])"
   ]
  },
  {
   "cell_type": "code",
   "execution_count": 8,
   "metadata": {},
   "outputs": [
    {
     "name": "stdout",
     "output_type": "stream",
     "text": [
      "6\n",
      "dennyj\n",
      "ason67@gmail.com\n"
     ]
    }
   ],
   "source": [
    "a=email.index(\"a\")\n",
    "print(a)\n",
    "print(email[:a])\n",
    "print(email[a:])"
   ]
  }
 ],
 "metadata": {
  "kernelspec": {
   "display_name": "Python 3",
   "language": "python",
   "name": "python3"
  },
  "language_info": {
   "codemirror_mode": {
    "name": "ipython",
    "version": 3
   },
   "file_extension": ".py",
   "mimetype": "text/x-python",
   "name": "python",
   "nbconvert_exporter": "python",
   "pygments_lexer": "ipython3",
   "version": "3.11.9"
  }
 },
 "nbformat": 4,
 "nbformat_minor": 2
}
