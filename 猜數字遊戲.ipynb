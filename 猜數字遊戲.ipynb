{
 "cells": [
  {
   "cell_type": "code",
   "execution_count": 123,
   "metadata": {},
   "outputs": [
    {
     "name": "stdout",
     "output_type": "stream",
     "text": [
      "8\n"
     ]
    }
   ],
   "source": [
    "#randiant()\n",
    "import random\n",
    "print(random.randint(1,10))"
   ]
  },
  {
   "cell_type": "code",
   "execution_count": 124,
   "metadata": {},
   "outputs": [
    {
     "name": "stdout",
     "output_type": "stream",
     "text": [
      "0.9462339010297349\n"
     ]
    }
   ],
   "source": [
    "#random()\n",
    "print(random.random())\n"
   ]
  },
  {
   "cell_type": "code",
   "execution_count": 125,
   "metadata": {},
   "outputs": [
    {
     "name": "stdout",
     "output_type": "stream",
     "text": [
      "電腦選擇的是石頭\n"
     ]
    }
   ],
   "source": [
    "#列表內隨機選擇一個元素\n",
    "options=[\"剪刀\",\"石頭\",\"布\"]\n",
    "rand_option = random.choice(options)\n",
    "print(f\"電腦選擇的是{rand_option}\")"
   ]
  },
  {
   "cell_type": "code",
   "execution_count": 126,
   "metadata": {},
   "outputs": [
    {
     "name": "stdout",
     "output_type": "stream",
     "text": [
      "['2', '6', '7', '4', '8', '5', '3']\n"
     ]
    }
   ],
   "source": [
    "#將一個列表打亂\n",
    "cards=[\"2\",\"3\",\"4\",\"5\",\"6\",\"7\",\"8\"]\n",
    "random.shuffle(cards)\n",
    "print(cards)"
   ]
  },
  {
   "cell_type": "code",
   "execution_count": 128,
   "metadata": {},
   "outputs": [
    {
     "name": "stdout",
     "output_type": "stream",
     "text": [
      "猜的數字小了\n",
      "猜的數字小了\n",
      "猜的數字小了\n",
      "猜的數字小了\n",
      "猜的數字小了\n",
      "猜的數字大了\n",
      "猜的數字大了\n",
      "猜的數字大了\n",
      "猜的數字大了\n",
      "猜的數字大了\n",
      "猜的數字大了\n",
      "猜的數字大了\n",
      "猜的數字大了\n",
      "猜的數字大了\n",
      "猜的數字小了\n",
      "猜的數字大了\n",
      "猜的數字大了\n",
      "共猜了18次猜中了\n"
     ]
    }
   ],
   "source": [
    "#猜數字遊戲\n",
    "import random\n",
    "\n",
    "low=1\n",
    "high=100\n",
    "number=random.randint(low,high)\n",
    "guesses=0\n",
    "\n",
    "while True:\n",
    "    guess=int(input(f\"請輸入一個{low}與{high}之間的數字\"))\n",
    "    guesses+=1\n",
    "    if guess < number:\n",
    "        print(\"猜的數字小了\")\n",
    "    elif guess > number:\n",
    "        print(\"猜的數字大了\")\n",
    "    else:\n",
    "        break\n",
    "print(f\"共猜了{guesses}次猜中了\") "
   ]
  }
 ],
 "metadata": {
  "kernelspec": {
   "display_name": "Python 3",
   "language": "python",
   "name": "python3"
  },
  "language_info": {
   "codemirror_mode": {
    "name": "ipython",
    "version": 3
   },
   "file_extension": ".py",
   "mimetype": "text/x-python",
   "name": "python",
   "nbconvert_exporter": "python",
   "pygments_lexer": "ipython3",
   "version": "3.11.9"
  }
 },
 "nbformat": 4,
 "nbformat_minor": 2
}
