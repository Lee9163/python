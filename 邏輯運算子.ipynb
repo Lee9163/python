{
 "cells": [
  {
   "cell_type": "code",
   "execution_count": null,
   "metadata": {},
   "outputs": [],
   "source": [
    "#邏輯運算子\n",
    "\n",
    "#and or not\n",
    "\n",
    "temp=int(input(\"請輸入現在溫度\"))\n",
    "if temp>0 and temp<30:\n",
    "    print(\"現在溫度適宜\")\n",
    "else:\n",
    "    print(\"現在溫度不適宜\")"
   ]
  },
  {
   "cell_type": "code",
   "execution_count": 1,
   "metadata": {},
   "outputs": [
    {
     "name": "stdout",
     "output_type": "stream",
     "text": [
      "現在溫度不適宜\n"
     ]
    }
   ],
   "source": [
    "temp=int(input(\"請輸入現在溫度\"))\n",
    "if temp<0 or temp>30:\n",
    "    print(\"現在溫度不適宜\")\n",
    "else:\n",
    "    print(\"現在溫度適宜\")\n"
   ]
  }
 ],
 "metadata": {
  "kernelspec": {
   "display_name": "Python 3",
   "language": "python",
   "name": "python3"
  },
  "language_info": {
   "codemirror_mode": {
    "name": "ipython",
    "version": 3
   },
   "file_extension": ".py",
   "mimetype": "text/x-python",
   "name": "python",
   "nbconvert_exporter": "python",
   "pygments_lexer": "ipython3",
   "version": "3.11.9"
  }
 },
 "nbformat": 4,
 "nbformat_minor": 2
}
