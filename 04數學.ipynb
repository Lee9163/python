{
 "cells": [
  {
   "cell_type": "code",
   "execution_count": null,
   "metadata": {},
   "outputs": [
    {
     "name": "stdout",
     "output_type": "stream",
     "text": [
      "4\n",
      "5\n",
      "4\n"
     ]
    }
   ],
   "source": [
    "#加減\n",
    "apples=3\n",
    "apples=apples+1\n",
    "print(apples)\n",
    "apples=apples+1\n",
    "print(apples)\n",
    "apples=apples-1\n",
    "print(apples)"
   ]
  },
  {
   "cell_type": "code",
   "execution_count": null,
   "metadata": {},
   "outputs": [
    {
     "name": "stdout",
     "output_type": "stream",
     "text": [
      "4\n",
      "5\n",
      "4\n"
     ]
    }
   ],
   "source": [
    "#加減\n",
    "apples=3\n",
    "apples+=1\n",
    "print(apples)\n",
    "apples+=1\n",
    "print(apples)\n",
    "apples-=1\n",
    "print(apples)"
   ]
  },
  {
   "cell_type": "code",
   "execution_count": null,
   "metadata": {},
   "outputs": [
    {
     "name": "stdout",
     "output_type": "stream",
     "text": [
      "4\n",
      "12\n"
     ]
    }
   ],
   "source": [
    "#乘\n",
    "apples=2\n",
    "apples=apples*2\n",
    "print(apples)\n",
    "apples*=3\n",
    "print(apples)"
   ]
  },
  {
   "cell_type": "code",
   "execution_count": null,
   "metadata": {},
   "outputs": [
    {
     "name": "stdout",
     "output_type": "stream",
     "text": [
      "5.0\n",
      "1.0\n"
     ]
    }
   ],
   "source": [
    "#除\n",
    "apples=10\n",
    "apples=apples/2\n",
    "print(apples)\n",
    "apples/=5\n",
    "print(apples)"
   ]
  },
  {
   "cell_type": "code",
   "execution_count": null,
   "metadata": {},
   "outputs": [
    {
     "name": "stdout",
     "output_type": "stream",
     "text": [
      "4\n",
      "64\n"
     ]
    }
   ],
   "source": [
    "#次方\n",
    "apples=2\n",
    "apples=apples**2\n",
    "print(apples)\n",
    "apples**=3\n",
    "print(apples)"
   ]
  },
  {
   "cell_type": "code",
   "execution_count": 15,
   "metadata": {},
   "outputs": [
    {
     "name": "stdout",
     "output_type": "stream",
     "text": [
      "1\n",
      "2\n",
      "0\n"
     ]
    }
   ],
   "source": [
    "#mod模數\n",
    "print(10%3)\n",
    "print(11%3)\n",
    "print(12%3)\n"
   ]
  },
  {
   "cell_type": "code",
   "execution_count": 1,
   "metadata": {},
   "outputs": [
    {
     "name": "stdout",
     "output_type": "stream",
     "text": [
      "9\n"
     ]
    }
   ],
   "source": [
    "#內建數學函數\n",
    "#次方\n",
    "print(pow(3,2))"
   ]
  },
  {
   "cell_type": "code",
   "execution_count": null,
   "metadata": {},
   "outputs": [],
   "source": [
    "#最大最小值\n",
    "x=1\n",
    "y=2\n",
    "z=3\n",
    "print(max(x,y,z))\n",
    "print(max(x,y,z))"
   ]
  },
  {
   "cell_type": "code",
   "execution_count": 2,
   "metadata": {},
   "outputs": [
    {
     "name": "stdout",
     "output_type": "stream",
     "text": [
      "3\n",
      "4\n"
     ]
    }
   ],
   "source": [
    "#四捨五入 round\n",
    "\n",
    "a=3.14\n",
    "print(round(a))\n",
    "b=3.5\n",
    "print(round(b))"
   ]
  },
  {
   "cell_type": "code",
   "execution_count": 3,
   "metadata": {},
   "outputs": [
    {
     "name": "stdout",
     "output_type": "stream",
     "text": [
      "4\n"
     ]
    }
   ],
   "source": [
    "#絕對值\n",
    "c=-4\n",
    "print(abs(c))\n",
    "\n"
   ]
  },
  {
   "cell_type": "code",
   "execution_count": 7,
   "metadata": {},
   "outputs": [
    {
     "name": "stdout",
     "output_type": "stream",
     "text": [
      "10\n",
      "10\n",
      "9\n"
     ]
    }
   ],
   "source": [
    "#四捨五入 無條件進位 無條件捨去\n",
    "import math\n",
    "x=9.5\n",
    "print(round(x))\n",
    "print(math.ceil(x))\n",
    "print(math.floor(x))"
   ]
  },
  {
   "cell_type": "code",
   "execution_count": 15,
   "metadata": {},
   "outputs": [
    {
     "name": "stdout",
     "output_type": "stream",
     "text": [
      "3.141592653589793\n",
      "37.699\n",
      "113.09734\n"
     ]
    }
   ],
   "source": [
    "#圓周率\n",
    "print(math.pi)\n",
    "radius=float(input(\"請輸入圓半徑\"))\n",
    "周長=2*math.pi*(radius)\n",
    "面積=math.pi*(radius**2)\n",
    "print(round(周長,3))\n",
    "print(round(面積,5))"
   ]
  }
 ],
 "metadata": {
  "kernelspec": {
   "display_name": "Python 3",
   "language": "python",
   "name": "python3"
  },
  "language_info": {
   "codemirror_mode": {
    "name": "ipython",
    "version": 3
   },
   "file_extension": ".py",
   "mimetype": "text/x-python",
   "name": "python",
   "nbconvert_exporter": "python",
   "pygments_lexer": "ipython3",
   "version": "3.11.9"
  }
 },
 "nbformat": 4,
 "nbformat_minor": 2
}
