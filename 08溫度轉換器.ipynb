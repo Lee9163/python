{
 "cells": [
  {
   "cell_type": "code",
   "execution_count": 7,
   "metadata": {},
   "outputs": [
    {
     "name": "stdout",
     "output_type": "stream",
     "text": [
      "當前溫度為68度f\n"
     ]
    }
   ],
   "source": [
    "#溫度轉換器\n",
    "unit=input(\"請輸入當前溫度單位\")\n",
    "temp=float(input(\"請輸入當前溫度\"))\n",
    "\n",
    "#判斷兩個值是否相等時必須使用 ==\n",
    "if unit==\"c\":\n",
    "    temp=round(temp*(9/5)+32)\n",
    "    new_nuit=\"度f\"\n",
    "elif unit==\"f\":\n",
    "    temp=(temp-32)*5/9\n",
    "    new_nuit=\"度c\"\n",
    "else:\n",
    "    print(\"單位錯誤\")\n",
    "    \n",
    "print(f\"當前溫度為{temp}{new_nuit}\")\n"
   ]
  }
 ],
 "metadata": {
  "kernelspec": {
   "display_name": "Python 3",
   "language": "python",
   "name": "python3"
  },
  "language_info": {
   "codemirror_mode": {
    "name": "ipython",
    "version": 3
   },
   "file_extension": ".py",
   "mimetype": "text/x-python",
   "name": "python",
   "nbconvert_exporter": "python",
   "pygments_lexer": "ipython3",
   "version": "3.11.9"
  }
 },
 "nbformat": 4,
 "nbformat_minor": 2
}
