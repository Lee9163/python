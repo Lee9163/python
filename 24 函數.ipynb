{
 "cells": [
  {
   "cell_type": "code",
   "execution_count": 1,
   "metadata": {},
   "outputs": [
    {
     "name": "stdout",
     "output_type": "stream",
     "text": [
      "嗨世界\n",
      "嗨世界\n",
      "嗨世界\n"
     ]
    }
   ],
   "source": [
    "#函數\n",
    "def say_hello():\n",
    "    print(\"嗨世界\")\n",
    "say_hello()\n",
    "say_hello()\n",
    "say_hello()"
   ]
  },
  {
   "cell_type": "code",
   "execution_count": 10,
   "metadata": {},
   "outputs": [
    {
     "name": "stdout",
     "output_type": "stream",
     "text": [
      "你好,阿才!\n",
      "你好,宗璟!\n",
      "11\n",
      "6\n",
      "30\n",
      "2.0\n",
      "John Wick\n"
     ]
    }
   ],
   "source": [
    "#傳遞參數\n",
    "def greeting(name):\n",
    "    print(f\"你好,{name}!\")\n",
    "greeting(\"阿才\")\n",
    "greeting(\"宗璟\")\n",
    "\n",
    "#加減函數\n",
    "def add(x,y):\n",
    "    return x + y\n",
    "\n",
    "result = add(7,4)\n",
    "print(result)\n",
    "\n",
    "def sub(x,y):\n",
    "    return x - y\n",
    "result2 = sub(8,2)\n",
    "print(result2)\n",
    "\n",
    "#乘除函數\n",
    "def mul(x,y):\n",
    "    return x * y\n",
    "result3 = mul(5,6)\n",
    "print(result3)\n",
    "\n",
    "def devide(x,y):\n",
    "    return x/y\n",
    "result4=devide(8,4)\n",
    "print(result4)\n",
    "\n",
    "def create_name(first,last):\n",
    "    first = first.capitalize()\n",
    "    last = last.capitalize()\n",
    "    return first +\" \"+last\n",
    "a=create_name(\"john\",\"wick\")\n",
    "print(a)"
   ]
  }
 ],
 "metadata": {
  "kernelspec": {
   "display_name": "Python 3",
   "language": "python",
   "name": "python3"
  },
  "language_info": {
   "codemirror_mode": {
    "name": "ipython",
    "version": 3
   },
   "file_extension": ".py",
   "mimetype": "text/x-python",
   "name": "python",
   "nbconvert_exporter": "python",
   "pygments_lexer": "ipython3",
   "version": "3.11.9"
  }
 },
 "nbformat": 4,
 "nbformat_minor": 2
}
