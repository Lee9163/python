{
 "cells": [
  {
   "cell_type": "code",
   "execution_count": 8,
   "metadata": {},
   "outputs": [
    {
     "name": "stdout",
     "output_type": "stream",
     "text": [
      "1 2 3 4 5 6 7 8 9 "
     ]
    }
   ],
   "source": [
    "for x in range (1,10):\n",
    "        print(x,end=\" \")"
   ]
  },
  {
   "cell_type": "code",
   "execution_count": 9,
   "metadata": {},
   "outputs": [
    {
     "name": "stdout",
     "output_type": "stream",
     "text": [
      "1 2 3 4 5 6 7 8 9 \n",
      "1 2 3 4 5 6 7 8 9 \n",
      "1 2 3 4 5 6 7 8 9 \n",
      "1 2 3 4 5 6 7 8 9 \n",
      "1 2 3 4 5 6 7 8 9 \n"
     ]
    }
   ],
   "source": [
    "#巢狀迴圈\n",
    "for y in range(5):\n",
    "    for x in range (1,10):\n",
    "        print(x,end=\" \")\n",
    "    print()"
   ]
  },
  {
   "cell_type": "code",
   "execution_count": null,
   "metadata": {},
   "outputs": [
    {
     "name": "stdout",
     "output_type": "stream",
     "text": [
      "30 30 \n",
      "30 30 \n",
      "30 30 \n",
      "30 30 \n",
      "30 30 \n",
      "30 30 \n",
      "30 30 \n",
      "30 30 \n",
      "30 30 \n",
      "30 30 \n"
     ]
    }
   ],
   "source": [
    "rows = int(input(\"請輸入行數:\"))\n",
    "cols = int(input(\"請輸入列數\"))\n",
    "symbol = input(\"請輸入符號\")\n",
    "\n",
    "for i in range(rows):\n",
    "    for j in range(cols):\n",
    "        print(symbol,end=\" \")\n",
    "    print()\n",
    "#外層的 print()是在印完一整行後負責換行，讓下一行的符號能夠從新的一行開始印。"
   ]
  },
  {
   "cell_type": "code",
   "execution_count": 16,
   "metadata": {},
   "outputs": [
    {
     "name": "stdout",
     "output_type": "stream",
     "text": [
      "0 1\n",
      "0 2\n",
      "0 3\n",
      "0 4\n",
      "0 5\n",
      "0 6\n",
      "1 1\n",
      "1 2\n",
      "1 3\n",
      "1 4\n",
      "1 5\n",
      "1 6\n",
      "2 1\n",
      "2 2\n",
      "2 3\n",
      "2 4\n",
      "2 5\n",
      "2 6\n",
      "3 1\n",
      "3 2\n",
      "3 3\n",
      "3 4\n",
      "3 5\n",
      "3 6\n",
      "4 1\n",
      "4 2\n",
      "4 3\n",
      "4 4\n",
      "4 5\n",
      "4 6\n"
     ]
    }
   ],
   "source": [
    "#end=\" \" 會在同一行中印出符號並以空格作為分隔，而不自動換行\n",
    "for i in range(5):\n",
    "    for j in range(1,7):\n",
    "        print(i,j)"
   ]
  },
  {
   "cell_type": "code",
   "execution_count": 19,
   "metadata": {},
   "outputs": [
    {
     "name": "stdout",
     "output_type": "stream",
     "text": [
      "k k k k k \n",
      "k k k k k \n",
      "k k k k k \n",
      "k k k k k \n"
     ]
    }
   ],
   "source": [
    "for i in range(4):\n",
    "    for j in range(5):\n",
    "        print(\"k\",end=\" \")\n",
    "    print()"
   ]
  }
 ],
 "metadata": {
  "kernelspec": {
   "display_name": "Python 3",
   "language": "python",
   "name": "python3"
  },
  "language_info": {
   "codemirror_mode": {
    "name": "ipython",
    "version": 3
   },
   "file_extension": ".py",
   "mimetype": "text/x-python",
   "name": "python",
   "nbconvert_exporter": "python",
   "pygments_lexer": "ipython3",
   "version": "3.11.9"
  }
 },
 "nbformat": 4,
 "nbformat_minor": 2
}
