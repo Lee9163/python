{
 "cells": [
  {
   "cell_type": "code",
   "execution_count": null,
   "metadata": {},
   "outputs": [
    {
     "name": "stdout",
     "output_type": "stream",
     "text": [
      "Hello,丹尼\n",
      "早安,丹尼牛\n"
     ]
    }
   ],
   "source": [
    "#函數的預設引數(必須寫在後面)\n",
    "#如果沒有輸入，直接用=後面的代替\n",
    "def greet(name,greeting=\"Hello\"):\n",
    "    print(f\"{greeting},{name}\")\n",
    "    \n",
    "greet(\"丹尼\")\n",
    "greet(\"丹尼牛\",\"早安\")\n"
   ]
  }
 ],
 "metadata": {
  "kernelspec": {
   "display_name": "Python 3",
   "language": "python",
   "name": "python3"
  },
  "language_info": {
   "codemirror_mode": {
    "name": "ipython",
    "version": 3
   },
   "file_extension": ".py",
   "mimetype": "text/x-python",
   "name": "python",
   "nbconvert_exporter": "python",
   "pygments_lexer": "ipython3",
   "version": "3.11.9"
  }
 },
 "nbformat": 4,
 "nbformat_minor": 2
}
