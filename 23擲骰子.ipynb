{
 "cells": [
  {
   "cell_type": "code",
   "execution_count": 5,
   "metadata": {},
   "outputs": [],
   "source": [
    "#每個dict中 有好幾個tuple\n",
    "import random\n",
    "import random\n",
    "\n",
    "dice_art = {\n",
    "    1: (\n",
    "        \"┌───────┐\",\n",
    "        \"│       │\",\n",
    "        \"│   ●   │\",\n",
    "        \"│       │\",\n",
    "        \"└───────┘\",\n",
    "    ),\n",
    "    2: (\n",
    "        \"┌───────┐\",\n",
    "        \"│ ●     │\",\n",
    "        \"│       │\",\n",
    "        \"│     ● │\",\n",
    "        \"└───────┘\",\n",
    "    ),\n",
    "    3: (\n",
    "        \"┌───────┐\",\n",
    "        \"│ ●     │\",\n",
    "        \"│   ●   │\",\n",
    "        \"│     ● │\",\n",
    "        \"└───────┘\",\n",
    "    ),\n",
    "    4: (\n",
    "        \"┌───────┐\",\n",
    "        \"│ ●   ● │\",\n",
    "        \"│       │\",\n",
    "        \"│ ●   ● │\",\n",
    "        \"└───────┘\",\n",
    "    ),\n",
    "    5: (\n",
    "        \"┌───────┐\",\n",
    "        \"│ ●   ● │\",\n",
    "        \"│   ●   │\",\n",
    "        \"│ ●   ● │\",\n",
    "        \"└───────┘\",\n",
    "    ),\n",
    "    6: (\n",
    "        \"┌───────┐\", # 0\n",
    "        \"│ ●   ● │\", # 1\n",
    "        \"│ ●   ● │\", # 2\n",
    "        \"│ ●   ● │\", # 3\n",
    "        \"└───────┘\", # 4\n",
    "    ),\n",
    "}"
   ]
  },
  {
   "cell_type": "code",
   "execution_count": 6,
   "metadata": {},
   "outputs": [
    {
     "name": "stdout",
     "output_type": "stream",
     "text": [
      "┌───────┐\n",
      "│ ●   ● │\n",
      "│ ●   ● │\n",
      "│ ●   ● │\n",
      "└───────┘\n"
     ]
    }
   ],
   "source": [
    "for i in range(5):\n",
    "    print(dice_art.get(6)[i])"
   ]
  },
  {
   "cell_type": "code",
   "execution_count": 7,
   "metadata": {},
   "outputs": [
    {
     "name": "stdout",
     "output_type": "stream",
     "text": [
      "[2, 4, 3, 6, 5]\n",
      "┌───────┐\n",
      "│ ●     │\n",
      "│       │\n",
      "│     ● │\n",
      "└───────┘\n",
      "┌───────┐\n",
      "│ ●   ● │\n",
      "│       │\n",
      "│ ●   ● │\n",
      "└───────┘\n",
      "┌───────┐\n",
      "│ ●     │\n",
      "│   ●   │\n",
      "│     ● │\n",
      "└───────┘\n",
      "┌───────┐\n",
      "│ ●   ● │\n",
      "│ ●   ● │\n",
      "│ ●   ● │\n",
      "└───────┘\n",
      "┌───────┐\n",
      "│ ●   ● │\n",
      "│   ●   │\n",
      "│ ●   ● │\n",
      "└───────┘\n",
      "總和: 20\n"
     ]
    }
   ],
   "source": [
    "num_dice=int(input(\"請輸入要擲幾顆骰子:\"))\n",
    "dice = []\n",
    "for i in range (num_dice):\n",
    "    dice_number = random.randint(1,6)\n",
    "    dice.append(dice_number)\n",
    "print(dice)\n",
    "\n",
    "def get_dice_number(number):\n",
    "    for i in range (5):\n",
    "        print(dice_art.get(number)[i]) \n",
    "        \n",
    "for i in dice:\n",
    "    get_dice_number(i)\n",
    "print(\"總和:\",sum(dice))"
   ]
  }
 ],
 "metadata": {
  "kernelspec": {
   "display_name": "Python 3",
   "language": "python",
   "name": "python3"
  },
  "language_info": {
   "codemirror_mode": {
    "name": "ipython",
    "version": 3
   },
   "file_extension": ".py",
   "mimetype": "text/x-python",
   "name": "python",
   "nbconvert_exporter": "python",
   "pygments_lexer": "ipython3",
   "version": "3.11.9"
  }
 },
 "nbformat": 4,
 "nbformat_minor": 2
}
