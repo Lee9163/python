{
 "cells": [
  {
   "cell_type": "code",
   "execution_count": 5,
   "metadata": {},
   "outputs": [
    {
     "name": "stdout",
     "output_type": "stream",
     "text": [
      "答案是9\n"
     ]
    }
   ],
   "source": [
    "#計算機程式\n",
    "opearator=input(\"請輸入運算符\")\n",
    "num1=float(input(\"請輸入第一個數字\"))\n",
    "num2=float(input(\"請輸入第二個數字\"))\n",
    "if opearator == '+':\n",
    "    result= num1 + num2\n",
    "elif opearator == '-':\n",
    "    result= num1 - num2\n",
    "elif opearator == '*':\n",
    "    result= num1 * num2\n",
    "elif opearator == '/':\n",
    "    result= num1 / num2\n",
    "else:\n",
    "    print(error) \n",
    "    \n",
    "print(f\"答案是{round(result)}\")\n",
    "\n"
   ]
  },
  {
   "cell_type": "code",
   "execution_count": null,
   "metadata": {},
   "outputs": [],
   "source": []
  }
 ],
 "metadata": {
  "kernelspec": {
   "display_name": "Python 3",
   "language": "python",
   "name": "python3"
  },
  "language_info": {
   "codemirror_mode": {
    "name": "ipython",
    "version": 3
   },
   "file_extension": ".py",
   "mimetype": "text/x-python",
   "name": "python",
   "nbconvert_exporter": "python",
   "pygments_lexer": "ipython3",
   "version": "3.11.9"
  }
 },
 "nbformat": 4,
 "nbformat_minor": 2
}
