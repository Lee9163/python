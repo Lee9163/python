{
 "cells": [
  {
   "cell_type": "code",
   "execution_count": 10,
   "id": "c59b9bb0",
   "metadata": {},
   "outputs": [
    {
     "name": "stdout",
     "output_type": "stream",
     "text": [
      "bob\n",
      "18\n",
      "Teemo\n",
      "19\n"
     ]
    }
   ],
   "source": [
    "#python中的filter 過濾\n",
    "\n",
    "friends = [\n",
    "    (\"bob\",18),\n",
    "    (\"Apple\",17),\n",
    "    (\"Teemo\",19),\n",
    "    (\"Eric\",16)\n",
    "]\n",
    "\n",
    "age_filter = lambda data : data[1] >= 18 \n",
    "\n",
    "#filter 會把 friends 列表中的每一筆資料，依序丟給 age_filter。\n",
    "#只有當 age_filter(data) 回傳 True 時，該筆資料才會「保留」在回傳的過濾器 (filter object) 中。\n",
    "\n",
    "can_drink_friends = list(filter(age_filter,friends))\n",
    "for friend in can_drink_friends:\n",
    "    print(friend[0])\n",
    "    print(friend[1])\n",
    "\n",
    "#這裡把篩選後的列表逐一取出，命名為 friend（建議不要用複數 friends 作為迴圈變數，以免與原列表混淆）。"
   ]
  }
 ],
 "metadata": {
  "kernelspec": {
   "display_name": "Python 3",
   "language": "python",
   "name": "python3"
  },
  "language_info": {
   "codemirror_mode": {
    "name": "ipython",
    "version": 3
   },
   "file_extension": ".py",
   "mimetype": "text/x-python",
   "name": "python",
   "nbconvert_exporter": "python",
   "pygments_lexer": "ipython3",
   "version": "3.10.11"
  }
 },
 "nbformat": 4,
 "nbformat_minor": 5
}
