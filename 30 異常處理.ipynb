{
 "cells": [
  {
   "cell_type": "code",
   "execution_count": null,
   "id": "ee8dff3c",
   "metadata": {},
   "outputs": [
    {
     "name": "stdout",
     "output_type": "stream",
     "text": [
      "除數不可為0\n"
     ]
    }
   ],
   "source": [
    "#異常處理\n",
    "\n",
    "#exception\n",
    "try:\n",
    "    x=int(input(\"請輸入一個整數：\"))\n",
    "    y=int(input(\"請輸入另一個整數\"))\n",
    "    print(x/y)\n",
    "except ValueError:\n",
    "    print(\"請輸入整數\")\n",
    "except ZeroDivisionError:\n",
    "    print(\"除數不可為0\")"
   ]
  },
  {
   "cell_type": "code",
   "execution_count": 19,
   "id": "0079b4f0",
   "metadata": {},
   "outputs": [
    {
     "name": "stdout",
     "output_type": "stream",
     "text": [
      "0.75\n",
      "else\n"
     ]
    }
   ],
   "source": [
    "#異常處理\n",
    "\n",
    "#exception\n",
    "#finally\n",
    "#else\n",
    "try:\n",
    "    x=int(input(\"請輸入一個整數：\"))\n",
    "    y=int(input(\"請輸入另一個整數\"))\n",
    "    print(x/y)\n",
    "except (ValueError,ZeroDivisionError):\n",
    "    print(\"出現錯誤，請重新輸入\")\n",
    "else :\n",
    "    print(\"else\")\n"
   ]
  },
  {
   "cell_type": "code",
   "execution_count": 16,
   "id": "4bdc9348",
   "metadata": {},
   "outputs": [
    {
     "name": "stdout",
     "output_type": "stream",
     "text": [
      "0.8333333333333334\n",
      "無論是否出現異常，皆會執行\n"
     ]
    }
   ],
   "source": [
    "#異常處理\n",
    "\n",
    "#exception\n",
    "#finally\n",
    "#else\n",
    "try:\n",
    "    x=int(input(\"請輸入一個整數：\"))\n",
    "    y=int(input(\"請輸入另一個整數\"))\n",
    "    print(x/y)\n",
    "except (ValueError,ZeroDivisionError):\n",
    "    print(\"出現錯誤，請重新輸入\")\n",
    "finally:\n",
    "    print(\"無論是否出現異常，皆會執行\")"
   ]
  }
 ],
 "metadata": {
  "kernelspec": {
   "display_name": "Python 3",
   "language": "python",
   "name": "python3"
  },
  "language_info": {
   "codemirror_mode": {
    "name": "ipython",
    "version": 3
   },
   "file_extension": ".py",
   "mimetype": "text/x-python",
   "name": "python",
   "nbconvert_exporter": "python",
   "pygments_lexer": "ipython3",
   "version": "3.13.3"
  }
 },
 "nbformat": 4,
 "nbformat_minor": 5
}
