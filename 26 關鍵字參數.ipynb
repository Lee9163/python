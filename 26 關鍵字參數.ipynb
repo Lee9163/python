{
 "cells": [
  {
   "cell_type": "code",
   "execution_count": 1,
   "metadata": {},
   "outputs": [
    {
     "name": "stdout",
     "output_type": "stream",
     "text": [
      "您好!,Mr.,Orange,李\n",
      "您好!,Mr.,Orange,李\n"
     ]
    }
   ],
   "source": [
    "#關鍵字參數\n",
    "\n",
    "def hello(greeting,title,first_name,last_name):\n",
    "    print(f\"{greeting},{title},{first_name},{last_name}\")\n",
    "    \n",
    "hello(\"您好!\",\"Mr.\",\"Orange\",\"李\")\n",
    "hello(greeting=\"您好!\",title=\"Mr.\",first_name=\"Orange\",last_name=(\"李\"))\n"
   ]
  },
  {
   "cell_type": "code",
   "execution_count": 3,
   "metadata": {},
   "outputs": [
    {
     "name": "stdout",
     "output_type": "stream",
     "text": [
      "886-02-1234-5678\n"
     ]
    }
   ],
   "source": [
    "def phone(country_code,area_code,first,last):\n",
    "    return f\"{country_code}-{area_code}-{first}-{last}\"\n",
    "\n",
    "b=phone(country_code=\"886\",area_code=\"02\",first=\"1234\",last=\"5678\")\n",
    "print(b)"
   ]
  }
 ],
 "metadata": {
  "kernelspec": {
   "display_name": "Python 3",
   "language": "python",
   "name": "python3"
  },
  "language_info": {
   "codemirror_mode": {
    "name": "ipython",
    "version": 3
   },
   "file_extension": ".py",
   "mimetype": "text/x-python",
   "name": "python",
   "nbconvert_exporter": "python",
   "pygments_lexer": "ipython3",
   "version": "3.11.9"
  }
 },
 "nbformat": 4,
 "nbformat_minor": 2
}
