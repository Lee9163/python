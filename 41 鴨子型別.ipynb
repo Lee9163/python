{
 "cells": [
  {
   "cell_type": "code",
   "execution_count": 5,
   "id": "f9eae44a",
   "metadata": {},
   "outputs": [
    {
     "name": "stdout",
     "output_type": "stream",
     "text": [
      "鴨子在走路\n",
      "鴨子在呱呱呱\n",
      "雞在走路\n",
      "雞在咕咕咕\n"
     ]
    }
   ],
   "source": [
    "#Duck typing\n",
    "\n",
    "class Duck:\n",
    "    def walk(self):\n",
    "        print(\"鴨子在走路\")\n",
    "    def talk(self):\n",
    "        print(\"鴨子在呱呱呱\")\n",
    "        \n",
    "class Chicken:\n",
    "    def walk(self):\n",
    "        print(\"雞在走路\")\n",
    "    def talk(self):\n",
    "        print(\"雞在咕咕咕\")\n",
    "        \n",
    "#如果有同樣的行為 即使沒有繼承關係 也能當作同一類型的類別使用\n",
    "\n",
    "class Person:\n",
    "    def catch(self,duck):\n",
    "        duck.walk()\n",
    "        duck.talk()\n",
    "\n",
    "c = Chicken()       \n",
    "d = Duck()\n",
    "p = Person()\n",
    "\n",
    "p.catch(d)\n",
    "p.catch(c)"
   ]
  }
 ],
 "metadata": {
  "kernelspec": {
   "display_name": "Python 3",
   "language": "python",
   "name": "python3"
  },
  "language_info": {
   "codemirror_mode": {
    "name": "ipython",
    "version": 3
   },
   "file_extension": ".py",
   "mimetype": "text/x-python",
   "name": "python",
   "nbconvert_exporter": "python",
   "pygments_lexer": "ipython3",
   "version": "3.10.11"
  }
 },
 "nbformat": 4,
 "nbformat_minor": 5
}
