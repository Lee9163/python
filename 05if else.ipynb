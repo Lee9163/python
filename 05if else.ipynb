{
 "cells": [
  {
   "cell_type": "code",
   "execution_count": 4,
   "metadata": {},
   "outputs": [
    {
     "name": "stdout",
     "output_type": "stream",
     "text": [
      "我不是甲\n"
     ]
    }
   ],
   "source": [
    "#if else elif控制流程\n",
    "\n",
    "#Boolean\n",
    "gay=False\n",
    "if gay:\n",
    "    print(\"我是甲\")\n",
    "else:\n",
    "    print(\"我不是甲\")"
   ]
  },
  {
   "cell_type": "code",
   "execution_count": 5,
   "metadata": {},
   "outputs": [
    {
     "name": "stdout",
     "output_type": "stream",
     "text": [
      "可以註冊\n"
     ]
    }
   ],
   "source": [
    "#if else\n",
    "age=int(input(\"請輸入你的年齡\"))\n",
    "if age<=0:\n",
    "    print(\"還沒出生\")\n",
    "elif age >=100:\n",
    "    print(\"太老了\")\n",
    "elif age <=18:\n",
    "    print(\"未成年\")\n",
    "else:\n",
    "    print(\"可以註冊\")\n",
    "\n"
   ]
  }
 ],
 "metadata": {
  "kernelspec": {
   "display_name": "Python 3",
   "language": "python",
   "name": "python3"
  },
  "language_info": {
   "codemirror_mode": {
    "name": "ipython",
    "version": 3
   },
   "file_extension": ".py",
   "mimetype": "text/x-python",
   "name": "python",
   "nbconvert_exporter": "python",
   "pygments_lexer": "ipython3",
   "version": "3.11.9"
  }
 },
 "nbformat": 4,
 "nbformat_minor": 2
}
