{
 "cells": [
  {
   "cell_type": "code",
   "execution_count": 5,
   "metadata": {},
   "outputs": [
    {
     "name": "stdout",
     "output_type": "stream",
     "text": [
      "第一個字元是: 1\n",
      "第一個字元是: 2\n",
      "前四個字元為: 1234\n",
      "最後一個字元為: 8\n",
      "倒數第二字元為]: 7\n"
     ]
    }
   ],
   "source": [
    "#字串索引\n",
    "credit_mumber=\"1234-5678-9106-0378\"\n",
    "\n",
    "first= credit_mumber[0]\n",
    "print(\"第一個字元是:\",first)\n",
    "\n",
    "second= credit_mumber[1]\n",
    "print(\"第一個字元是:\",second)\n",
    "\n",
    "first_four=credit_mumber[0:4]\n",
    "print(\"前四個字元為:\",first_four)\n",
    "\n",
    "last=credit_mumber[-1]\n",
    "print(\"最後一個字元為:\",last)\n",
    "\n",
    "倒數2=credit_mumber[-2]\n",
    "print(\"倒數第二字元為]:\",倒數2)"
   ]
  }
 ],
 "metadata": {
  "kernelspec": {
   "display_name": "Python 3",
   "language": "python",
   "name": "python3"
  },
  "language_info": {
   "codemirror_mode": {
    "name": "ipython",
    "version": 3
   },
   "file_extension": ".py",
   "mimetype": "text/x-python",
   "name": "python",
   "nbconvert_exporter": "python",
   "pygments_lexer": "ipython3",
   "version": "3.11.9"
  }
 },
 "nbformat": 4,
 "nbformat_minor": 2
}
