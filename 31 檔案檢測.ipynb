{
 "cells": [
  {
   "cell_type": "code",
   "execution_count": 1,
   "id": "c0c86b18",
   "metadata": {},
   "outputs": [
    {
     "name": "stdout",
     "output_type": "stream",
     "text": [
      "/Users/lizongjing/Desktop/python/test.rtf\n"
     ]
    }
   ],
   "source": [
    "#使用python進行檔案檢測\n",
    "import os\n",
    "\n",
    "str=r'/Users/lizongjing/Desktop/python/test.rtf'\n",
    "print(str)"
   ]
  },
  {
   "cell_type": "code",
   "execution_count": 2,
   "id": "fe7eb817",
   "metadata": {},
   "outputs": [
    {
     "name": "stdout",
     "output_type": "stream",
     "text": [
      "路徑存在\n"
     ]
    }
   ],
   "source": [
    "if os.path.exists(str):\n",
    "    print(\"路徑存在\")\n",
    "else:\n",
    "    print(\"路徑不存在\")\n"
   ]
  },
  {
   "cell_type": "code",
   "execution_count": 3,
   "id": "6212c2c5",
   "metadata": {},
   "outputs": [
    {
     "name": "stdout",
     "output_type": "stream",
     "text": [
      "該路徑為檔案\n"
     ]
    }
   ],
   "source": [
    "if os.path.isfile(str):\n",
    "    print(\"該路徑為檔案\")\n",
    "elif os.path.isdir(str):\n",
    "    print(\"該路徑為目錄\")\n",
    "else:\n",
    "    print(\"other\")\n",
    "\n"
   ]
  }
 ],
 "metadata": {
  "kernelspec": {
   "display_name": "Python 3",
   "language": "python",
   "name": "python3"
  },
  "language_info": {
   "codemirror_mode": {
    "name": "ipython",
    "version": 3
   },
   "file_extension": ".py",
   "mimetype": "text/x-python",
   "name": "python",
   "nbconvert_exporter": "python",
   "pygments_lexer": "ipython3",
   "version": "3.10.11"
  }
 },
 "nbformat": 4,
 "nbformat_minor": 5
}
