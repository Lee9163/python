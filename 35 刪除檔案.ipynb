{
 "cells": [
  {
   "cell_type": "code",
   "execution_count": 1,
   "id": "f0efa19d",
   "metadata": {},
   "outputs": [],
   "source": [
    "#刪除檔案\n",
    "\n",
    "import os\n",
    "path = r'/Users/lizongjing/Desktop/python'\n",
    "os.remove(f\"{path}/test.txt\")"
   ]
  },
  {
   "cell_type": "code",
   "execution_count": 7,
   "id": "09873ee0",
   "metadata": {},
   "outputs": [],
   "source": [
    "#刪除空資料夾\n",
    "os.rmdir(f\"{path}/dir\")"
   ]
  },
  {
   "cell_type": "code",
   "execution_count": null,
   "id": "1b601e22",
   "metadata": {},
   "outputs": [],
   "source": [
    "#刪除資料夾及其內容\n",
    "import shutil\n",
    "shutil.rmtree()"
   ]
  },
  {
   "cell_type": "code",
   "execution_count": 10,
   "id": "93aea135",
   "metadata": {},
   "outputs": [],
   "source": [
    "#丟到資源回收筒\n",
    "import send2trash\n",
    "send2trash.send2trash(f\"{path}/test2.txt\")"
   ]
  }
 ],
 "metadata": {
  "kernelspec": {
   "display_name": "Python 3",
   "language": "python",
   "name": "python3"
  },
  "language_info": {
   "codemirror_mode": {
    "name": "ipython",
    "version": 3
   },
   "file_extension": ".py",
   "mimetype": "text/x-python",
   "name": "python",
   "nbconvert_exporter": "python",
   "pygments_lexer": "ipython3",
   "version": "3.10.11"
  }
 },
 "nbformat": 4,
 "nbformat_minor": 5
}
