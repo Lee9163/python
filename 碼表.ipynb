{
 "cells": [
  {
   "cell_type": "code",
   "execution_count": 1,
   "metadata": {},
   "outputs": [],
   "source": [
    "import time\n",
    "\n",
    "time.sleep(1)\n"
   ]
  },
  {
   "cell_type": "code",
   "execution_count": 5,
   "metadata": {},
   "outputs": [
    {
     "name": "stdout",
     "output_type": "stream",
     "text": [
      "0\n",
      "1\n",
      "2\n",
      "時間到了\n"
     ]
    }
   ],
   "source": [
    "my_time= int(input(\"請輸入秒數\"))\n",
    "\n",
    "for x in range(my_time):\n",
    "    print(x)\n",
    "    time.sleep(1)\n",
    "print(\"時間到了\")"
   ]
  },
  {
   "cell_type": "code",
   "execution_count": 4,
   "metadata": {},
   "outputs": [
    {
     "name": "stdout",
     "output_type": "stream",
     "text": [
      "20\n",
      "19\n",
      "18\n",
      "17\n",
      "16\n",
      "15\n",
      "14\n",
      "13\n",
      "12\n",
      "11\n",
      "10\n",
      "9\n",
      "8\n",
      "7\n",
      "6\n",
      "5\n",
      "4\n",
      "3\n",
      "2\n",
      "1\n",
      "時間到了\n"
     ]
    }
   ],
   "source": [
    "my_time= int(input(\"請輸入秒數\"))\n",
    "\n",
    "#my_time,0是為了數到0\n",
    "#0,-1是為了倒著數\n",
    "\n",
    "for x in range(my_time,0,-1):\n",
    "    print(x)\n",
    "    time.sleep(1)\n",
    "print(\"時間到了\")"
   ]
  },
  {
   "cell_type": "code",
   "execution_count": 3,
   "metadata": {},
   "outputs": [
    {
     "name": "stdout",
     "output_type": "stream",
     "text": [
      "01:00\n",
      "00:59\n",
      "00:58\n",
      "00:57\n",
      "00:56\n",
      "00:55\n",
      "00:54\n",
      "00:53\n",
      "00:52\n",
      "00:51\n",
      "00:50\n",
      "00:49\n",
      "00:48\n",
      "00:47\n",
      "00:46\n",
      "00:45\n",
      "00:44\n",
      "00:43\n",
      "00:42\n"
     ]
    },
    {
     "ename": "KeyboardInterrupt",
     "evalue": "",
     "output_type": "error",
     "traceback": [
      "\u001b[31m---------------------------------------------------------------------------\u001b[39m",
      "\u001b[31mKeyboardInterrupt\u001b[39m                         Traceback (most recent call last)",
      "\u001b[36mCell\u001b[39m\u001b[36m \u001b[39m\u001b[32mIn[3]\u001b[39m\u001b[32m, line 9\u001b[39m\n\u001b[32m      7\u001b[39m     minute = x//\u001b[32m60\u001b[39m %\u001b[32m60\u001b[39m\n\u001b[32m      8\u001b[39m     \u001b[38;5;28mprint\u001b[39m(\u001b[33mf\u001b[39m\u001b[33m\"\u001b[39m\u001b[38;5;132;01m{\u001b[39;00mminute\u001b[38;5;132;01m:\u001b[39;00m\u001b[33m02\u001b[39m\u001b[38;5;132;01m}\u001b[39;00m\u001b[33m:\u001b[39m\u001b[38;5;132;01m{\u001b[39;00msecond\u001b[38;5;132;01m:\u001b[39;00m\u001b[33m02\u001b[39m\u001b[38;5;132;01m}\u001b[39;00m\u001b[33m\"\u001b[39m)\n\u001b[32m----> \u001b[39m\u001b[32m9\u001b[39m     time.sleep(\u001b[32m1\u001b[39m)\n\u001b[32m     10\u001b[39m \u001b[38;5;28mprint\u001b[39m(\u001b[33m\"\u001b[39m\u001b[33m時間到了\u001b[39m\u001b[33m\"\u001b[39m)\n",
      "\u001b[31mKeyboardInterrupt\u001b[39m: "
     ]
    }
   ],
   "source": [
    "import time\n",
    "\n",
    "my_time=int(input(\"請輸入秒數\"))\n",
    "\n",
    "for x in range (my_time,0,-1):\n",
    "    second = x%60\n",
    "    minute = x//60 %60\n",
    "    print(f\"{minute:02}:{second:02}\")\n",
    "    time.sleep(1)\n",
    "print(\"時間到了\")"
   ]
  }
 ],
 "metadata": {
  "kernelspec": {
   "display_name": "Python 3",
   "language": "python",
   "name": "python3"
  },
  "language_info": {
   "codemirror_mode": {
    "name": "ipython",
    "version": 3
   },
   "file_extension": ".py",
   "mimetype": "text/x-python",
   "name": "python",
   "nbconvert_exporter": "python",
   "pygments_lexer": "ipython3",
   "version": "3.11.9"
  }
 },
 "nbformat": 4,
 "nbformat_minor": 2
}
