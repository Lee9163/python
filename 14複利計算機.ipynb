{
 "cells": [
  {
   "cell_type": "code",
   "execution_count": 2,
   "metadata": {},
   "outputs": [
    {
     "name": "stdout",
     "output_type": "stream",
     "text": [
      "本金為4000.0元\n"
     ]
    }
   ],
   "source": [
    "#複利計算機\n",
    "#if這一行是為了要讓<=0時才print\n",
    "amount =0\n",
    "while amount <=0:\n",
    "    amount=float(input(\"請輸入本金\"))\n",
    "    if amount<=0:\n",
    "        print(\"本金不能小於等於0\")\n",
    "print(f\"本金為{amount}元\")\n",
    "      "
   ]
  },
  {
   "cell_type": "code",
   "execution_count": 1,
   "metadata": {},
   "outputs": [
    {
     "name": "stdout",
     "output_type": "stream",
     "text": [
      "利率為5.0\n"
     ]
    }
   ],
   "source": [
    "rate=0\n",
    "while rate <=0:\n",
    "    rate=float(input(\"請輸入利率\"))\n",
    "    if rate <=0:\n",
    "        print(\"利率不能為負\")\n",
    "print(f\"利率為{rate}\")"
   ]
  },
  {
   "cell_type": "code",
   "execution_count": null,
   "metadata": {},
   "outputs": [],
   "source": [
    "time=0\n",
    "while time <= 0:\n",
    "    if time<=0:\n",
    "        print(\"請輸入正確年限\")\n",
    "    time=int(input(\"請輸入年限\"))\n",
    "print(f\"年限為{time}\")\n",
    "    "
   ]
  },
  {
   "cell_type": "code",
   "execution_count": 3,
   "metadata": {},
   "outputs": [
    {
     "name": "stdout",
     "output_type": "stream",
     "text": [
      "本金為20000.0元\n",
      "利率為2.0\n",
      "年限為13\n",
      "總金額為25872.132609075932\n"
     ]
    }
   ],
   "source": [
    "amount =0\n",
    "rate=0\n",
    "time=0\n",
    "while amount <=0:\n",
    "    amount=float(input(\"請輸入本金\"))\n",
    "    if amount<=0:\n",
    "        print(\"本金不能小於等於0\")\n",
    "while rate <=0:\n",
    "    rate=float(input(\"請輸入利率\"))\n",
    "    if rate <=0:\n",
    "        print(\"利率不能為負\")\n",
    "while time <= 0:\n",
    "    time=int(input(\"請輸入年分\"))\n",
    "    if time<=0:\n",
    "        print(\"請輸入正確年分\")\n",
    "print(f\"本金為{amount}元\")\n",
    "print(f\"利率為{rate}\")\n",
    "print(f\"年限為{time}\")\n",
    "\n",
    "total=amount*(1+(rate/100))**(time)\n",
    "print(f\"總金額為{total}\")"
   ]
  }
 ],
 "metadata": {
  "kernelspec": {
   "display_name": "Python 3",
   "language": "python",
   "name": "python3"
  },
  "language_info": {
   "codemirror_mode": {
    "name": "ipython",
    "version": 3
   },
   "file_extension": ".py",
   "mimetype": "text/x-python",
   "name": "python",
   "nbconvert_exporter": "python",
   "pygments_lexer": "ipython3",
   "version": "3.11.9"
  }
 },
 "nbformat": 4,
 "nbformat_minor": 2
}
