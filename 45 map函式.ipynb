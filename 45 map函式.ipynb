{
 "cells": [
  {
   "cell_type": "code",
   "execution_count": null,
   "id": "10b7b37a",
   "metadata": {},
   "outputs": [
    {
     "name": "stdout",
     "output_type": "stream",
     "text": [
      "[('襯衫', 16.4), ('褲子', 24.599999999999998), ('夾克', 41.0), ('襪子', 8.2)]\n"
     ]
    }
   ],
   "source": [
    "#python中的map\n",
    "#map(函式,可迭代的[列表])\n",
    "\n",
    "store = [\n",
    "    ('襯衫',20),\n",
    "    ('褲子',30),\n",
    "    ('夾克',50),\n",
    "    ('襪子',10),\n",
    "]\n",
    "\n",
    "to_euros = lambda data:(data[0],data[1]*0.82)\n",
    "\n",
    "store_euros = list(map(to_euros,store))\n",
    "print(store_euros)\n",
    "#map 會把 store 裡的每一筆二元組依序丟給 to_euros 去處理，回傳一個「map 物件」。"
   ]
  },
  {
   "cell_type": "code",
   "execution_count": 12,
   "id": "4cb0f561",
   "metadata": {},
   "outputs": [
    {
     "name": "stdout",
     "output_type": "stream",
     "text": [
      "[('襯衫', 6000), ('褲子', 9000), ('夾克', 15000), ('襪子', 3000)]\n",
      "('襯衫', 7)\n",
      "('褲子', 10)\n",
      "('夾克', 17)\n",
      "('襪子', 3)\n"
     ]
    }
   ],
   "source": [
    "store = [\n",
    "    ('襯衫',200),\n",
    "    ('褲子',300),\n",
    "    ('夾克',500),\n",
    "    ('襪子',100),\n",
    "]\n",
    "\n",
    "to_ntd = lambda data:(data[0],data[1]*30)\n",
    "\n",
    "store_euros = list(map(to_ntd,store))\n",
    "print(store_euros)\n",
    "\n",
    "to_usd = lambda data:(data[0],round(data[1]*1/30))\n",
    "store_usd = list(map(to_usd,store))\n",
    "\n",
    "for item in store_usd:\n",
    "    print(item)"
   ]
  }
 ],
 "metadata": {
  "kernelspec": {
   "display_name": "Python 3",
   "language": "python",
   "name": "python3"
  },
  "language_info": {
   "codemirror_mode": {
    "name": "ipython",
    "version": 3
   },
   "file_extension": ".py",
   "mimetype": "text/x-python",
   "name": "python",
   "nbconvert_exporter": "python",
   "pygments_lexer": "ipython3",
   "version": "3.10.11"
  }
 },
 "nbformat": 4,
 "nbformat_minor": 5
}
