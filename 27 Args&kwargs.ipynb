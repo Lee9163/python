{
 "cells": [
  {
   "cell_type": "code",
   "execution_count": null,
   "metadata": {},
   "outputs": [
    {
     "name": "stdout",
     "output_type": "stream",
     "text": [
      "3\n"
     ]
    }
   ],
   "source": [
    "#args=>arguments 任意數量參數*=>以tuple方式存取各個元素\n",
    "#kwargs=>關鍵字+args(keyword args)**=>以dictionary方式存取各個元素\n",
    "\n",
    "#args\n",
    "def add(a,b):\n",
    "    return a + b\n",
    "print(add(1,2))"
   ]
  },
  {
   "cell_type": "code",
   "execution_count": 3,
   "metadata": {},
   "outputs": [
    {
     "name": "stdout",
     "output_type": "stream",
     "text": [
      "arg:1\n",
      "arg:2\n",
      "arg:3\n",
      "arg:4\n",
      "10\n"
     ]
    }
   ],
   "source": [
    "def add(*args):\n",
    "    total = 0\n",
    "    for arg in args:\n",
    "        print(f\"arg:{arg}\")\n",
    "        total += arg\n",
    "    return total\n",
    "print(add(1,2,3,4)) \n"
   ]
  },
  {
   "cell_type": "code",
   "execution_count": 5,
   "metadata": {},
   "outputs": [
    {
     "name": "stdout",
     "output_type": "stream",
     "text": [
      "key:namevalue:Alice\n",
      "key:agevalue:25\n",
      "key:occupationvalue:工程師\n"
     ]
    }
   ],
   "source": [
    "def print_information(**kwargs):\n",
    "    for key,value in kwargs.items():\n",
    "        print(f\"key:{key}value:{value}\")\n",
    "        \n",
    "print_information(name=\"Alice\",age=\"25\",occupation=\"工程師\")"
   ]
  },
  {
   "cell_type": "code",
   "execution_count": 6,
   "metadata": {},
   "outputs": [
    {
     "name": "stdout",
     "output_type": "stream",
     "text": [
      "固定參數: 固定值\n",
      "位置參數 (*args):\n",
      "10\n",
      "20\n",
      "30\n",
      "關鍵字參數 (**kwargs):\n",
      "name = Bob\n",
      "city = Taipei\n"
     ]
    }
   ],
   "source": [
    "def combined_example(fixed_param, *args, **kwargs):\n",
    "    print(\"固定參數:\", fixed_param)\n",
    "    \n",
    "    print(\"位置參數 (*args):\")\n",
    "    for arg in args:\n",
    "        print(arg)\n",
    "    \n",
    "    print(\"關鍵字參數 (**kwargs):\")\n",
    "    for key, value in kwargs.items():\n",
    "        print(f\"{key} = {value}\")\n",
    "\n",
    "combined_example(\"固定值\", 10, 20, 30, name=\"Bob\", city=\"Taipei\")"
   ]
  },
  {
   "cell_type": "code",
   "execution_count": 7,
   "metadata": {},
   "outputs": [
    {
     "name": "stdout",
     "output_type": "stream",
     "text": [
      "Before calling function\n",
      "Hello, Alice!\n",
      "After calling function\n"
     ]
    }
   ],
   "source": [
    "def my_decorator(func):\n",
    "    def wrapper(*args, **kwargs):\n",
    "        print(\"Before calling function\")\n",
    "        result = func(*args, **kwargs)\n",
    "        print(\"After calling function\")\n",
    "        return result\n",
    "    return wrapper\n",
    "\n",
    "@my_decorator\n",
    "def greet(name):\n",
    "    print(f\"Hello, {name}!\")\n",
    "\n",
    "greet(\"Alice\")"
   ]
  }
 ],
 "metadata": {
  "kernelspec": {
   "display_name": "Python 3",
   "language": "python",
   "name": "python3"
  },
  "language_info": {
   "codemirror_mode": {
    "name": "ipython",
    "version": 3
   },
   "file_extension": ".py",
   "mimetype": "text/x-python",
   "name": "python",
   "nbconvert_exporter": "python",
   "pygments_lexer": "ipython3",
   "version": "3.11.9"
  }
 },
 "nbformat": 4,
 "nbformat_minor": 2
}
