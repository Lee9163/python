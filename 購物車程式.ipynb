{
 "cells": [
  {
   "cell_type": "code",
   "execution_count": 11,
   "metadata": {},
   "outputs": [
    {
     "name": "stdout",
     "output_type": "stream",
     "text": [
      "商品: ['f', 'w']\n",
      "價格: [5.0, 6.0]\n",
      "第1個商品是f,價格為5.00\n",
      "第2個商品是w,價格為6.00\n",
      "總價為11.0元\n"
     ]
    }
   ],
   "source": [
    "#購物車程式\n",
    "goods=[]\n",
    "prices=[]\n",
    "\n",
    "#無窮迴圈\n",
    "while True:\n",
    "    good=input(\"想購買的物品\")\n",
    "    if good.lower()==\"q\":\n",
    "        break\n",
    "    \n",
    "    price=float(input(f\"請輸入{good}的價格\"))\n",
    "    goods.append(good)\n",
    "    prices.append(price)\n",
    "print(\"商品:\",goods)\n",
    "print(\"價格:\",prices)\n",
    "\n",
    "#for index,good in enumerate(goods):\n",
    "#print(\"索引index\",index)\n",
    "#print(\"商品名稱\",good)\n",
    "\n",
    "#enumerate(goods)，目的在於同時取得清單（或可迭代物件）goods \n",
    "#的索引值 (index) 以及對應的元素 (good)\n",
    "for index,good in enumerate(goods):\n",
    "    print(f\"第{index+1}個商品是{good},價格為{prices[index]:.2f}\")\n",
    "\n",
    "total=sum(prices)    \n",
    "print(f\"總價為{total}元\")"
   ]
  }
 ],
 "metadata": {
  "kernelspec": {
   "display_name": "Python 3",
   "language": "python",
   "name": "python3"
  },
  "language_info": {
   "codemirror_mode": {
    "name": "ipython",
    "version": 3
   },
   "file_extension": ".py",
   "mimetype": "text/x-python",
   "name": "python",
   "nbconvert_exporter": "python",
   "pygments_lexer": "ipython3",
   "version": "3.11.9"
  }
 },
 "nbformat": 4,
 "nbformat_minor": 2
}
