{
 "cells": [
  {
   "cell_type": "code",
   "execution_count": 21,
   "metadata": {},
   "outputs": [],
   "source": [
    "#python字串方法\n",
    "\n",
    "#len()、find()、capitalize()、\n",
    "#upper()、lower()、count()、replace()\n",
    "\n",
    "#help(str)\n",
    "\n",
    "#使用者的全名\n",
    "name=\"super handsome 宗璟\""
   ]
  },
  {
   "cell_type": "code",
   "execution_count": 22,
   "metadata": {},
   "outputs": [
    {
     "name": "stdout",
     "output_type": "stream",
     "text": [
      "全名共有17個字元\n",
      "全名共有 17 個字元\n"
     ]
    }
   ],
   "source": [
    "#幾個字元\n",
    "length= len(name)\n",
    "print(f\"全名共有{length}個字元\")\n",
    "print(\"全名共有\",length,\"個字元\")"
   ]
  },
  {
   "cell_type": "code",
   "execution_count": 23,
   "metadata": {},
   "outputs": [
    {
     "name": "stdout",
     "output_type": "stream",
     "text": [
      "第一個空格出現在第5個字元\n",
      "第一個空格出現在第 5 個字元\n"
     ]
    }
   ],
   "source": [
    "#找到第一個空格\n",
    "space_pos = name.find(\" \")\n",
    "print(f\"第一個空格出現在第{space_pos}個字元\")\n",
    "print(\"第一個空格出現在第\",space_pos,\"個字元\")"
   ]
  },
  {
   "cell_type": "code",
   "execution_count": 24,
   "metadata": {},
   "outputs": [
    {
     "name": "stdout",
     "output_type": "stream",
     "text": [
      "您的全名(第一個字母大寫):Super handsome 宗璟\n",
      "您的全名(第一個字母大寫): Super handsome 宗璟\n"
     ]
    }
   ],
   "source": [
    "#第一個字母大寫\n",
    "name_capitalized = name.capitalize()\n",
    "print(f\"您的全名(第一個字母大寫):{name_capitalized}\")\n",
    "print(\"您的全名(第一個字母大寫):\",name_capitalized,)"
   ]
  },
  {
   "cell_type": "code",
   "execution_count": 25,
   "metadata": {},
   "outputs": [
    {
     "name": "stdout",
     "output_type": "stream",
     "text": [
      "您的全名(全部大寫)SUPER HANDSOME 宗璟\n",
      "您的全名(全部大寫) SUPER HANDSOME 宗璟\n"
     ]
    }
   ],
   "source": [
    "#全部大寫upper()\n",
    "name_upper=name.upper()\n",
    "print(f\"您的全名(全部大寫){name_upper}\")\n",
    "print(\"您的全名(全部大寫)\",name_upper)"
   ]
  },
  {
   "cell_type": "code",
   "execution_count": 26,
   "metadata": {},
   "outputs": [
    {
     "name": "stdout",
     "output_type": "stream",
     "text": [
      "您的全名(全部小寫)super handsome 宗璟\n",
      "您的全名(全部小寫 super handsome 宗璟\n"
     ]
    }
   ],
   "source": [
    "#全部小寫lower()\n",
    "name_lower=name.lower()\n",
    "print(f\"您的全名(全部小寫){name_lower}\")\n",
    "print(\"您的全名(全部小寫\",name_lower)"
   ]
  },
  {
   "cell_type": "code",
   "execution_count": 27,
   "metadata": {},
   "outputs": [
    {
     "name": "stdout",
     "output_type": "stream",
     "text": [
      "您的電話號碼中共有0個短橫線\n",
      "您的電話號碼中共有 0 個短橫線\n"
     ]
    }
   ],
   "source": [
    "#count\n",
    "phone_number = input(\"請輸入你的電話號碼\")\n",
    "dash_count = phone_number.count(\"-\")\n",
    "print(f\"您的電話號碼中共有{dash_count}個短橫線\")\n",
    "print(\"您的電話號碼中共有\",dash_count,\"個短橫線\")"
   ]
  },
  {
   "cell_type": "code",
   "execution_count": 28,
   "metadata": {},
   "outputs": [
    {
     "name": "stdout",
     "output_type": "stream",
     "text": [
      "您的電話號碼(短橫線換成空格):16512\n",
      "您的電話號碼(短橫線換成空格): 16512\n"
     ]
    }
   ],
   "source": [
    "#replace\n",
    "phone_number = phone_number.replace(\"-\",\" \")\n",
    "print(f\"您的電話號碼(短橫線換成空格):{phone_number}\")\n",
    "print(\"您的電話號碼(短橫線換成空格):\",phone_number)"
   ]
  },
  {
   "cell_type": "code",
   "execution_count": 29,
   "metadata": {},
   "outputs": [
    {
     "name": "stdout",
     "output_type": "stream",
     "text": [
      "全部都是英文字\n"
     ]
    }
   ],
   "source": [
    "username=input(\"請輸入使用者名稱\")\n",
    "if username.isalpha():\n",
    "    print(\"全部都是英文字\")\n",
    "else:\n",
    "    print(\"包含其他字元\")"
   ]
  },
  {
   "cell_type": "code",
   "execution_count": 30,
   "metadata": {},
   "outputs": [
    {
     "name": "stdout",
     "output_type": "stream",
     "text": [
      "歡迎etsdxrctfgy\n"
     ]
    }
   ],
   "source": [
    "#程式練習:驗證使用者輸入的合法性\n",
    "#-您的使用者名稱不能超過12個字元\n",
    "#-您的使用者名稱不能包含空格\n",
    "#-您的使用者名稱不能包含數字\n",
    "#-如果都符合的話，顯示 歡迎+使用者名稱\n",
    "\n",
    "username = input(\"請輸入你的使用者名稱\")\n",
    "if len(username) > 12:\n",
    "    print(\"您的使用者名稱不能超過12個字元\")\n",
    "elif \" \" in username:\n",
    "    print(\"您的使用者名稱不能包含空格\")\n",
    "elif not username.isalpha():\n",
    "    print(\"您的使用者名稱不能包含數字\")\n",
    "else:\n",
    "    print(\"歡迎\"+username)"
   ]
  },
  {
   "cell_type": "code",
   "execution_count": null,
   "metadata": {},
   "outputs": [],
   "source": []
  }
 ],
 "metadata": {
  "kernelspec": {
   "display_name": "Python 3",
   "language": "python",
   "name": "python3"
  },
  "language_info": {
   "codemirror_mode": {
    "name": "ipython",
    "version": 3
   },
   "file_extension": ".py",
   "mimetype": "text/x-python",
   "name": "python",
   "nbconvert_exporter": "python",
   "pygments_lexer": "ipython3",
   "version": "3.11.9"
  }
 },
 "nbformat": 4,
 "nbformat_minor": 2
}
