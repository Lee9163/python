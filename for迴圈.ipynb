{
 "cells": [
  {
   "cell_type": "code",
   "execution_count": null,
   "metadata": {},
   "outputs": [
    {
     "name": "stdout",
     "output_type": "stream",
     "text": [
      "10\n",
      "11\n",
      "12\n",
      "13\n",
      "14\n",
      "15\n",
      "16\n",
      "17\n",
      "18\n",
      "19\n",
      "20\n",
      "21\n",
      "22\n"
     ]
    }
   ],
   "source": [
    "#for迴圈\n",
    "for x in range(10,23):\n",
    "    print(x)"
   ]
  },
  {
   "cell_type": "code",
   "execution_count": 5,
   "metadata": {},
   "outputs": [
    {
     "name": "stdout",
     "output_type": "stream",
     "text": [
      "10\n",
      "9\n",
      "8\n",
      "7\n",
      "6\n",
      "5\n",
      "4\n",
      "3\n",
      "2\n",
      "1\n",
      "happy new year\n"
     ]
    }
   ],
   "source": [
    "for x in reversed(range(1,11)):\n",
    "    print(x)\n",
    "print(\"happy new year\")"
   ]
  },
  {
   "cell_type": "code",
   "execution_count": 10,
   "metadata": {},
   "outputs": [
    {
     "name": "stdout",
     "output_type": "stream",
     "text": [
      "1\n",
      "2\n",
      "3\n",
      "4\n",
      "-\n",
      "5\n",
      "6\n",
      "7\n",
      "8\n",
      "-\n",
      "9\n",
      "0\n",
      "1\n",
      "2\n",
      "-\n",
      "3\n",
      "4\n",
      "5\n",
      "6\n"
     ]
    }
   ],
   "source": [
    "credit_card = \"1234-5678-9012-3456\"\n",
    "for x in credit_card:\n",
    "    print(x)"
   ]
  },
  {
   "cell_type": "code",
   "execution_count": 12,
   "metadata": {},
   "outputs": [
    {
     "name": "stdout",
     "output_type": "stream",
     "text": [
      "1\n",
      "3\n",
      "4\n",
      "-\n",
      "5\n",
      "6\n",
      "7\n",
      "8\n",
      "-\n",
      "9\n",
      "0\n",
      "1\n",
      "-\n",
      "3\n",
      "4\n",
      "5\n",
      "6\n"
     ]
    }
   ],
   "source": [
    "#continue 跳過\n",
    "credit_card = \"1234-5678-9012-3456\"\n",
    "for x in credit_card:\n",
    "    if x ==\"2\":\n",
    "        continue\n",
    "    print(x)"
   ]
  },
  {
   "cell_type": "code",
   "execution_count": 13,
   "metadata": {},
   "outputs": [
    {
     "name": "stdout",
     "output_type": "stream",
     "text": [
      "1\n",
      "2\n",
      "3\n",
      "4\n",
      "-\n",
      "5\n",
      "6\n"
     ]
    }
   ],
   "source": [
    "#break 脫離迴圈\n",
    "credit_card = \"1234-5678-9012-3456\"\n",
    "for x in credit_card:\n",
    "    if x ==\"7\":\n",
    "        break\n",
    "    print(x)"
   ]
  },
  {
   "cell_type": "code",
   "execution_count": 1,
   "metadata": {},
   "outputs": [
    {
     "name": "stdout",
     "output_type": "stream",
     "text": [
      "a\n",
      "b\n",
      "c\n"
     ]
    }
   ],
   "source": [
    "#字典 dictionary 鍵 keys 值 value\n",
    "my_dict = {\"a\":1,\"b\":2,\"c\":3}\n",
    "for x in my_dict:\n",
    "    print(x)"
   ]
  },
  {
   "cell_type": "code",
   "execution_count": 2,
   "metadata": {},
   "outputs": [
    {
     "name": "stdout",
     "output_type": "stream",
     "text": [
      "key: a\n",
      "value: 1\n",
      "key: b\n",
      "value: 2\n",
      "key: c\n",
      "value: 3\n"
     ]
    }
   ],
   "source": [
    "for key, value in my_dict.items():\n",
    "    print(\"key:\",key)\n",
    "    print(\"value:\",value)"
   ]
  }
 ],
 "metadata": {
  "kernelspec": {
   "display_name": "Python 3",
   "language": "python",
   "name": "python3"
  },
  "language_info": {
   "codemirror_mode": {
    "name": "ipython",
    "version": 3
   },
   "file_extension": ".py",
   "mimetype": "text/x-python",
   "name": "python",
   "nbconvert_exporter": "python",
   "pygments_lexer": "ipython3",
   "version": "3.11.9"
  }
 },
 "nbformat": 4,
 "nbformat_minor": 2
}
