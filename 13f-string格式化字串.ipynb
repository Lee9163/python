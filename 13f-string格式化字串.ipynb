{
 "cells": [
  {
   "cell_type": "code",
   "execution_count": null,
   "metadata": {},
   "outputs": [
    {
     "name": "stdout",
     "output_type": "stream",
     "text": [
      "價格1為3.321\n",
      "價格2為-77\n",
      "價格3為15.11\n"
     ]
    }
   ],
   "source": [
    "#f-string字串格式化\n",
    "\n",
    "#\\n 換行\n",
    "price_1=3.321\n",
    "price_2=-77\n",
    "price_3=15.11\n",
    "\n",
    "print(f\"價格1為{price_1}\\n\"\n",
    "      f\"價格2為{price_2}\\n\"\n",
    "      f\"價格3為{price_3}\")"
   ]
  },
  {
   "cell_type": "code",
   "execution_count": 4,
   "metadata": {},
   "outputs": [
    {
     "name": "stdout",
     "output_type": "stream",
     "text": [
      "價格1為3.32\n",
      "價格2為-77.00\n",
      "價格3為15.11\n"
     ]
    }
   ],
   "source": [
    "#小數點精確度\n",
    "print(f\"價格1為{price_1:.2f}\\n\"\n",
    "      f\"價格2為{price_2:.2f}\\n\"\n",
    "      f\"價格3為{price_3:.2f}\")"
   ]
  },
  {
   "cell_type": "code",
   "execution_count": 5,
   "metadata": {},
   "outputs": [
    {
     "name": "stdout",
     "output_type": "stream",
     "text": [
      "價格1為+3.32\n",
      "價格2為-77.00\n",
      "價格3為+15.11\n"
     ]
    }
   ],
   "source": [
    "#加上正號或負號\n",
    "print(f\"價格1為{price_1:+.2f}\\n\"\n",
    "      f\"價格2為{price_2:+.2f}\\n\"\n",
    "      f\"價格3為{price_3:+.2f}\")"
   ]
  },
  {
   "cell_type": "code",
   "execution_count": 6,
   "metadata": {},
   "outputs": [
    {
     "name": "stdout",
     "output_type": "stream",
     "text": [
      "價格1為3.321     \n",
      "價格2為-77.00    \n",
      "價格3為15.11000     \n"
     ]
    }
   ],
   "source": [
    "#對齊< > ^\n",
    "print(f\"價格1為{price_1:<10.3f}\\n\"\n",
    "      f\"價格2為{price_2:<10.2f}\\n\"\n",
    "      f\"價格3為{price_3:<13.5f}\")"
   ]
  },
  {
   "cell_type": "code",
   "execution_count": 13,
   "metadata": {},
   "outputs": [
    {
     "name": "stdout",
     "output_type": "stream",
     "text": [
      "價格1為+3.321\n",
      "價格2為-77.00\n",
      "價格3為+15.11000\n"
     ]
    }
   ],
   "source": [
    "#混合不同符號\n",
    "#+-號要加在對齊的右邊\n",
    "print(f\"價格1為{price_1:<+.3f}\\n\"\n",
    "      f\"價格2為{price_2:<+.2f}\\n\"\n",
    "      f\"價格3為{price_3:<+.5f}\")"
   ]
  }
 ],
 "metadata": {
  "kernelspec": {
   "display_name": "Python 3",
   "language": "python",
   "name": "python3"
  },
  "language_info": {
   "codemirror_mode": {
    "name": "ipython",
    "version": 3
   },
   "file_extension": ".py",
   "mimetype": "text/x-python",
   "name": "python",
   "nbconvert_exporter": "python",
   "pygments_lexer": "ipython3",
   "version": "3.11.9"
  }
 },
 "nbformat": 4,
 "nbformat_minor": 2
}
