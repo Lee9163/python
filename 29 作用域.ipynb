{
 "cells": [
  {
   "cell_type": "code",
   "execution_count": 1,
   "id": "820344dc",
   "metadata": {},
   "outputs": [
    {
     "name": "stdout",
     "output_type": "stream",
     "text": [
      "a 1\n",
      "b 2\n",
      "a 1\n"
     ]
    }
   ],
   "source": [
    "#變數範圍與作用域\n",
    "#LEGB作用域順序\n",
    "\n",
    "#L-local 區域\n",
    "#E-enclosed\n",
    "#G-Global 全域\n",
    "#B-built-in\n",
    "\n",
    "#變數範圍\n",
    "a=10\n",
    "def function_one():\n",
    "    a=1\n",
    "    print(\"a\",a)\n",
    "    def function_two():\n",
    "        b=2\n",
    "        print(\"b\",b)\n",
    "        print(\"a\",a)\n",
    "    function_two()\n",
    "function_one()"
   ]
  },
  {
   "cell_type": "code",
   "execution_count": 2,
   "id": "47f355ad",
   "metadata": {},
   "outputs": [
    {
     "name": "stdout",
     "output_type": "stream",
     "text": [
      "2.718281828459045\n",
      "3\n"
     ]
    }
   ],
   "source": [
    "from math import e\n",
    "print(e)\n",
    "print(round(e))"
   ]
  }
 ],
 "metadata": {
  "kernelspec": {
   "display_name": "Python 3",
   "language": "python",
   "name": "python3"
  },
  "language_info": {
   "codemirror_mode": {
    "name": "ipython",
    "version": 3
   },
   "file_extension": ".py",
   "mimetype": "text/x-python",
   "name": "python",
   "nbconvert_exporter": "python",
   "pygments_lexer": "ipython3",
   "version": "3.10.11"
  }
 },
 "nbformat": 4,
 "nbformat_minor": 5
}
