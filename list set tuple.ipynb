{
 "cells": [
  {
   "cell_type": "code",
   "execution_count": 24,
   "metadata": {},
   "outputs": [
    {
     "name": "stdout",
     "output_type": "stream",
     "text": [
      "蘋果\n",
      "蘋果\n",
      "柳橙\n",
      "香蕉\n",
      "椰子\n"
     ]
    }
   ],
   "source": [
    "#list set tuple dictionary\n",
    "\n",
    "#list\n",
    "fruits=[\"蘋果\",\"柳橙\",\"香蕉\",\"椰子\"]\n",
    "\n",
    "print(fruits[0])\n",
    "\n",
    "for f in fruits:\n",
    "    print(f)"
   ]
  },
  {
   "cell_type": "code",
   "execution_count": 16,
   "metadata": {},
   "outputs": [
    {
     "name": "stdout",
     "output_type": "stream",
     "text": [
      "['蘋果', '柳橙', '香蕉', '椰子', '芭樂']\n"
     ]
    }
   ],
   "source": [
    "fruits.append(\"芭樂\")\n",
    "print(fruits)"
   ]
  },
  {
   "cell_type": "code",
   "execution_count": 17,
   "metadata": {},
   "outputs": [
    {
     "name": "stdout",
     "output_type": "stream",
     "text": [
      "['蘋果', '柳橙', '香蕉', '芭樂']\n"
     ]
    }
   ],
   "source": [
    "fruits.remove(\"椰子\")\n",
    "print(fruits)"
   ]
  },
  {
   "cell_type": "code",
   "execution_count": 18,
   "metadata": {},
   "outputs": [
    {
     "name": "stdout",
     "output_type": "stream",
     "text": [
      "2\n"
     ]
    }
   ],
   "source": [
    "print(fruits.index(\"香蕉\"))"
   ]
  },
  {
   "cell_type": "code",
   "execution_count": 19,
   "metadata": {},
   "outputs": [
    {
     "name": "stdout",
     "output_type": "stream",
     "text": [
      "['蘋果', '柳橙', '香蕉', '芭樂', '蘋果', '蘋果']\n",
      "0\n",
      "3\n"
     ]
    }
   ],
   "source": [
    "fruits.append(\"蘋果\")\n",
    "fruits.append(\"蘋果\")\n",
    "print(fruits)\n",
    "print(fruits.index(\"蘋果\"))\n",
    "print(fruits.count(\"蘋果\"))"
   ]
  },
  {
   "cell_type": "code",
   "execution_count": 20,
   "metadata": {},
   "outputs": [
    {
     "name": "stdout",
     "output_type": "stream",
     "text": [
      "['蘋果', '柳橙', '香蕉', '芭樂', '蘋果', '蘋果']\n",
      "['蘋果', '蘋果', '芭樂', '香蕉', '柳橙', '蘋果']\n"
     ]
    }
   ],
   "source": [
    "print(fruits)\n",
    "fruits.reverse()\n",
    "print(fruits)"
   ]
  },
  {
   "cell_type": "code",
   "execution_count": 29,
   "metadata": {},
   "outputs": [
    {
     "name": "stdout",
     "output_type": "stream",
     "text": [
      "香蕉 西瓜 蘋果 橘子 "
     ]
    }
   ],
   "source": [
    "#set\n",
    "\n",
    "fruits_set={\"蘋果\",\"橘子\",\"香蕉\"}\n",
    "fruits_set.add(\"蘋果\")\n",
    "fruits_set.add(\"西瓜\")\n",
    "for fruit in fruits_set:\n",
    "    print(fruit,end=\" \")"
   ]
  },
  {
   "cell_type": "code",
   "execution_count": 31,
   "metadata": {},
   "outputs": [
    {
     "name": "stdout",
     "output_type": "stream",
     "text": [
      "有蘋果\n",
      "有西瓜\n"
     ]
    }
   ],
   "source": [
    "if \"蘋果\" in fruits_set:\n",
    "    print(\"有蘋果\")\n",
    "\n",
    "if \"西瓜\" in fruits_set:\n",
    "    print(\"有西瓜\")\n",
    "else:\n",
    "    print(\"沒有西瓜\")"
   ]
  },
  {
   "cell_type": "code",
   "execution_count": 35,
   "metadata": {},
   "outputs": [
    {
     "name": "stdout",
     "output_type": "stream",
     "text": [
      "2\n",
      "1\n"
     ]
    }
   ],
   "source": [
    "#tuple元組\n",
    "fruits_tuple=(\"蘋果\",\"橘子\",\"香蕉\",\"蘋果\")\n",
    "result=fruits_tuple.count(\"蘋果\")\n",
    "print(result)\n",
    "\n",
    "a=fruits_tuple.index(\"橘子\")\n",
    "print(a)"
   ]
  },
  {
   "cell_type": "code",
   "execution_count": 37,
   "metadata": {},
   "outputs": [
    {
     "ename": "TypeError",
     "evalue": "can only concatenate tuple (not \"str\") to tuple",
     "output_type": "error",
     "traceback": [
      "\u001b[31m---------------------------------------------------------------------------\u001b[39m",
      "\u001b[31mTypeError\u001b[39m                                 Traceback (most recent call last)",
      "\u001b[36mCell\u001b[39m\u001b[36m \u001b[39m\u001b[32mIn[37]\u001b[39m\u001b[32m, line 2\u001b[39m\n\u001b[32m      1\u001b[39m \u001b[38;5;66;03m#tuple中無法隨意加東西\u001b[39;00m\n\u001b[32m----> \u001b[39m\u001b[32m2\u001b[39m \u001b[43mfruits_tuple\u001b[49m\u001b[43m.\u001b[49m\u001b[34;43m__add__\u001b[39;49m\u001b[43m(\u001b[49m\u001b[33;43m\"\u001b[39;49m\u001b[33;43m蘋果\u001b[39;49m\u001b[33;43m\"\u001b[39;49m\u001b[43m)\u001b[49m\n",
      "\u001b[31mTypeError\u001b[39m: can only concatenate tuple (not \"str\") to tuple"
     ]
    }
   ],
   "source": [
    "#tuple中無法隨意加東西\n",
    "fruits_tuple.__add__(\"蘋果\")"
   ]
  },
  {
   "cell_type": "code",
   "execution_count": null,
   "metadata": {},
   "outputs": [],
   "source": []
  }
 ],
 "metadata": {
  "kernelspec": {
   "display_name": "Python 3",
   "language": "python",
   "name": "python3"
  },
  "language_info": {
   "codemirror_mode": {
    "name": "ipython",
    "version": 3
   },
   "file_extension": ".py",
   "mimetype": "text/x-python",
   "name": "python",
   "nbconvert_exporter": "python",
   "pygments_lexer": "ipython3",
   "version": "3.11.9"
  }
 },
 "nbformat": 4,
 "nbformat_minor": 2
}
