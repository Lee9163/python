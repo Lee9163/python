{
 "cells": [
  {
   "cell_type": "code",
   "execution_count": 5,
   "id": "4adbec69",
   "metadata": {},
   "outputs": [],
   "source": [
    "#物件（object）是類別(class)的實例(instance)\n",
    "\n",
    "#車的藍圖  ＝>class\n",
    "#每台車    ＝>object\n",
    "class Car:\n",
    "    def __init__(self,make,model,year,colar):\n",
    "        self.make = make\n",
    "        self.model = model\n",
    "        self.year = year\n",
    "        self.colar = colar\n",
    "    \n",
    "    def drive(self):\n",
    "        print(self.model+\"正在行駛\")\n",
    "        \n",
    "    def stop(self):\n",
    "        print(self.model+\"已停止\")\n",
    "\n",
    "car1 = Car(\"toyota\",\"Altis\",2021,\"藍色\")\n",
    "car2 = Car(\"ford\",\"Kuga\",2020,\"白色\")"
   ]
  },
  {
   "cell_type": "code",
   "execution_count": 6,
   "id": "01b2d9dd",
   "metadata": {},
   "outputs": [
    {
     "name": "stdout",
     "output_type": "stream",
     "text": [
      "toyota\n",
      "Altis\n",
      "2021\n",
      "藍色\n",
      "ford\n",
      "Kuga\n",
      "2020\n",
      "白色\n"
     ]
    }
   ],
   "source": [
    "print(car1.make)\n",
    "print(car1.model)\n",
    "print(car1.year)\n",
    "print(car1.colar)\n",
    "\n",
    "print(car2.make)\n",
    "print(car2.model)\n",
    "print(car2.year)\n",
    "print(car2.colar)"
   ]
  },
  {
   "cell_type": "code",
   "execution_count": 9,
   "id": "a27f7eef",
   "metadata": {},
   "outputs": [
    {
     "name": "stdout",
     "output_type": "stream",
     "text": [
      "Altis正在行駛\n",
      "Kuga正在行駛\n",
      "Altis已停止\n"
     ]
    }
   ],
   "source": [
    "car1.drive()\n",
    "car2.drive()\n",
    "car1.stop()"
   ]
  },
  {
   "cell_type": "code",
   "execution_count": 1,
   "id": "2c398f86",
   "metadata": {},
   "outputs": [
    {
     "name": "stdout",
     "output_type": "stream",
     "text": [
      "4\n",
      "2\n"
     ]
    }
   ],
   "source": [
    "#類別變數\n",
    "class Car:\n",
    "    wheel = 4\n",
    "    def __init__(self,make,model,year,colar):\n",
    "        self.make = make\n",
    "        self.model = model\n",
    "        self.year = year\n",
    "        self.colar = colar\n",
    "        \n",
    "car1 = Car(\"toyota\",\"Altis\",2021,\"藍色\")\n",
    "print(car1.wheel)\n",
    "car2 = Car(\"sym\",\"勁戰\",2020,\"黑色\")\n",
    "car2.wheel = 2\n",
    "print(car2.wheel)"
   ]
  }
 ],
 "metadata": {
  "kernelspec": {
   "display_name": "Python 3",
   "language": "python",
   "name": "python3"
  },
  "language_info": {
   "codemirror_mode": {
    "name": "ipython",
    "version": 3
   },
   "file_extension": ".py",
   "mimetype": "text/x-python",
   "name": "python",
   "nbconvert_exporter": "python",
   "pygments_lexer": "ipython3",
   "version": "3.10.11"
  }
 },
 "nbformat": 4,
 "nbformat_minor": 5
}
