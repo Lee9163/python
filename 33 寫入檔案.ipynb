{
 "cells": [
  {
   "cell_type": "code",
   "execution_count": 10,
   "id": "40e2f522",
   "metadata": {},
   "outputs": [],
   "source": [
    "#python寫入檔案\n",
    "str='/Users/lizongjing/Desktop/python/test2.txt'\n",
    "#w 直接進行覆蓋\n",
    "text = \"hello\"\n",
    "with open(str,'w') as file:\n",
    "    file.write(text)"
   ]
  },
  {
   "cell_type": "code",
   "execution_count": 11,
   "id": "8678f42d",
   "metadata": {},
   "outputs": [],
   "source": [
    "#a 直接打入下行\n",
    "text = \"\\n cool\"\n",
    "with open(str,'a') as file:\n",
    "    file.write(text)"
   ]
  }
 ],
 "metadata": {
  "kernelspec": {
   "display_name": "Python 3",
   "language": "python",
   "name": "python3"
  },
  "language_info": {
   "codemirror_mode": {
    "name": "ipython",
    "version": 3
   },
   "file_extension": ".py",
   "mimetype": "text/x-python",
   "name": "python",
   "nbconvert_exporter": "python",
   "pygments_lexer": "ipython3",
   "version": "3.10.11"
  }
 },
 "nbformat": 4,
 "nbformat_minor": 5
}
