{
 "cells": [
  {
   "cell_type": "code",
   "execution_count": 5,
   "id": "ecc970e6",
   "metadata": {},
   "outputs": [
    {
     "name": "stdout",
     "output_type": "stream",
     "text": [
      "兔子在吃紅蘿蔔\n"
     ]
    }
   ],
   "source": [
    "#python中方法重寫\n",
    "class Animal:\n",
    "    def eat(self):\n",
    "        print(\"這個動物正在吃東西\")\n",
    "        \n",
    "class Rabbit(Animal):\n",
    "    def eat(self):\n",
    "        print(\"兔子在吃紅蘿蔔\")\n",
    "        \n",
    "rabbit = Rabbit()\n",
    "rabbit.eat()"
   ]
  },
  {
   "cell_type": "code",
   "execution_count": 7,
   "id": "6522b480",
   "metadata": {},
   "outputs": [
    {
     "name": "stdout",
     "output_type": "stream",
     "text": [
      "這個動物正在吃東西\n",
      "小貓正在吃魚\n"
     ]
    }
   ],
   "source": [
    "#動物＝>哺乳類=>貓狗\n",
    "class Mammal(Animal):\n",
    "    def hi(self):\n",
    "        print(\"我是哺乳類\")\n",
    "        \n",
    "class Cat(Mammal):\n",
    "    def eat(self):\n",
    "        print(\"小貓正在吃魚\")\n",
    "        \n",
    "class Dog(Mammal):\n",
    "    def eat(self):\n",
    "        print(\"小狗正在啃骨頭\")\n",
    "        \n",
    "m = Mammal()\n",
    "m.eat()\n",
    "c = Cat()\n",
    "c.eat()"
   ]
  }
 ],
 "metadata": {
  "kernelspec": {
   "display_name": "Python 3",
   "language": "python",
   "name": "python3"
  },
  "language_info": {
   "codemirror_mode": {
    "name": "ipython",
    "version": 3
   },
   "file_extension": ".py",
   "mimetype": "text/x-python",
   "name": "python",
   "nbconvert_exporter": "python",
   "pygments_lexer": "ipython3",
   "version": "3.10.11"
  }
 },
 "nbformat": 4,
 "nbformat_minor": 5
}
