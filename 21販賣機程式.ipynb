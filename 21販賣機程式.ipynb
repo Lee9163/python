{
 "cells": [
  {
   "cell_type": "code",
   "execution_count": null,
   "metadata": {},
   "outputs": [
    {
     "name": "stdout",
     "output_type": "stream",
     "text": [
      "菜單\n",
      "-------------\n",
      "披薩:300\n",
      "爆米花:200\n",
      "薯條:90\n",
      "洋芋片:60\n",
      "軟麵包條:120\n",
      "蘇打水:60\n",
      "檸檬水:90\n",
      "蘇打水 檸檬水 總共150元\n",
      "蘇打水 檸檬水 "
     ]
    }
   ],
   "source": [
    "menu = {\n",
    "    \"披薩\":300,\n",
    "    \"爆米花\":200,\n",
    "    \"薯條\":90,\n",
    "    \"洋芋片\":60,\n",
    "    \"軟麵包條\":120,\n",
    "    \"蘇打水\":60,\n",
    "    \"檸檬水\":90,   \n",
    "}\n",
    "print(\"菜單\")\n",
    "print(\"-------------\")\n",
    "cart=[]\n",
    "total=0\n",
    "\n",
    "for item,price in menu.items():\n",
    "    print(f\"{item}:{price}\")\n",
    "    \n",
    "while True:\n",
    "    food=input(\"請輸入要買的東西\")\n",
    "    if food == \"q\":\n",
    "        break\n",
    "    elif menu.get(food) is None:\n",
    "        print(\"沒有這個東西\")\n",
    "    else:\n",
    "        cart.append(food)\n",
    "        total+=menu.get(food)\n",
    "        print(food,end=\" \")\n",
    "print(f\"總共{total}元\")\n",
    "\n",
    "for a in cart:\n",
    "    print(a,end=\" \")"
   ]
  },
  {
   "cell_type": "code",
   "execution_count": null,
   "metadata": {},
   "outputs": [
    {
     "name": "stdout",
     "output_type": "stream",
     "text": [
      "dict_keys(['披薩', '爆米花', '薯條', '洋芋片', '軟麵包條', '蘇打水', '檸檬水'])\n",
      "dict_items([('披薩', 300), ('爆米花', 200), ('薯條', 90), ('軟麵包條', 120), ('蘇打水', 60), ('檸檬水', 90)])\n",
      "dict_values([300, 200, 90, 120, 60, 90])\n",
      "60\n",
      "None\n",
      "dict_items([('披薩', 300), ('爆米花', 200), ('薯條', 90), ('軟麵包條', 120), ('蘇打水', 60), ('檸檬水', 90), ('香蕉', '50')])\n"
     ]
    }
   ],
   "source": [
    "#print(menu.keys())\n",
    "#menu.pop(\"洋芋片\")\n",
    "#print(menu.items())\n",
    "#print(menu.values())\n",
    "#print(menu.get(\"蘇打水\"))\n",
    "#menu.update({\"香蕉\":\"50\"})\n",
    "#print(menu.items())"
   ]
  },
  {
   "cell_type": "code",
   "execution_count": null,
   "metadata": {},
   "outputs": [],
   "source": []
  }
 ],
 "metadata": {
  "kernelspec": {
   "display_name": "Python 3",
   "language": "python",
   "name": "python3"
  },
  "language_info": {
   "codemirror_mode": {
    "name": "ipython",
    "version": 3
   },
   "file_extension": ".py",
   "mimetype": "text/x-python",
   "name": "python",
   "nbconvert_exporter": "python",
   "pygments_lexer": "ipython3",
   "version": "3.11.9"
  }
 },
 "nbformat": 4,
 "nbformat_minor": 2
}
