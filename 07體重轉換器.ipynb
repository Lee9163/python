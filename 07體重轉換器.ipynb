{
 "cells": [
  {
   "cell_type": "code",
   "execution_count": 1,
   "metadata": {},
   "outputs": [
    {
     "name": "stdout",
     "output_type": "stream",
     "text": [
      "你的體重是110 磅\n"
     ]
    }
   ],
   "source": [
    "#體重轉換器\n",
    "weight=float(input(\"請輸入你的體重\"))\n",
    "unit = input(\"你的體重是公斤還是磅?(kg/lb)\").upper()\n",
    "\n",
    "if unit == \"KG\":\n",
    "    weight *=2.2\n",
    "    new_unit =\"磅\"\n",
    "elif unit == \"磅\":\n",
    "    weight/=2.2\n",
    "    new_unit =\"kg\"\n",
    "else:\n",
    "    print(\"單位錯誤\")\n",
    "    exit()\n",
    "    \n",
    "print(f\"你的體重是{round(weight)} {new_unit}\")\n",
    "    \n",
    " "
   ]
  }
 ],
 "metadata": {
  "kernelspec": {
   "display_name": "Python 3",
   "language": "python",
   "name": "python3"
  },
  "language_info": {
   "codemirror_mode": {
    "name": "ipython",
    "version": 3
   },
   "file_extension": ".py",
   "mimetype": "text/x-python",
   "name": "python",
   "nbconvert_exporter": "python",
   "pygments_lexer": "ipython3",
   "version": "3.11.9"
  }
 },
 "nbformat": 4,
 "nbformat_minor": 2
}
