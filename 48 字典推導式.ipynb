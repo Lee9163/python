{
 "cells": [
  {
   "cell_type": "code",
   "execution_count": null,
   "id": "e148df46",
   "metadata": {},
   "outputs": [
    {
     "name": "stdout",
     "output_type": "stream",
     "text": [
      "{'LA': 120, 'New York': 65, 'Chicaago': 50, 'Miami': 150}\n",
      "{'LA': 48.888888888888886, 'New York': 18.333333333333332, 'Chicaago': 10.0, 'Miami': 65.55555555555556}\n"
     ]
    }
   ],
   "source": [
    "#字典推導式\n",
    "\n",
    "#dictionary = \n",
    "#{key:運算 for key,value in iterable}\n",
    "\n",
    "\n",
    "#Ex1 運算\n",
    "cities_in_f = {'LA':120,'New York':65,'Chicaago':50,'Miami':150}\n",
    "cities_in_c = {key:(value - 32)* 5/9  for key,value in cities_in_f.items() }\n",
    "\n",
    "print(cities_in_f)\n",
    "print(cities_in_c)"
   ]
  },
  {
   "cell_type": "code",
   "execution_count": 8,
   "id": "89aa39bd",
   "metadata": {},
   "outputs": [
    {
     "name": "stdout",
     "output_type": "stream",
     "text": [
      "{'台北': '大晴天', '台中': '大晴天'}\n"
     ]
    }
   ],
   "source": [
    "#Ex2 條件判斷\n",
    "weather = {\"台北\":\"大晴天\",\"台中\":\"大晴天\",\"宜蘭\":\"雨天\",\"台東\":\"雨天\",}\n",
    "sunny_weather = {key : value for key,value in weather.items() if value =='大晴天' }\n",
    "print(sunny_weather)"
   ]
  },
  {
   "cell_type": "code",
   "execution_count": null,
   "id": "8cdd239e",
   "metadata": {},
   "outputs": [],
   "source": [
    "#Ex3 條件判斷＋函式\n"
   ]
  }
 ],
 "metadata": {
  "kernelspec": {
   "display_name": "Python 3",
   "language": "python",
   "name": "python3"
  },
  "language_info": {
   "codemirror_mode": {
    "name": "ipython",
    "version": 3
   },
   "file_extension": ".py",
   "mimetype": "text/x-python",
   "name": "python",
   "nbconvert_exporter": "python",
   "pygments_lexer": "ipython3",
   "version": "3.10.11"
  }
 },
 "nbformat": 4,
 "nbformat_minor": 5
}
