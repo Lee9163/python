{
 "cells": [
  {
   "cell_type": "code",
   "execution_count": 7,
   "id": "95923b11",
   "metadata": {},
   "outputs": [
    {
     "name": "stdout",
     "output_type": "stream",
     "text": [
      "矩形的初始化已執行\n",
      "正方形的初始化已執行\n"
     ]
    }
   ],
   "source": [
    "#python中的super函數\n",
    "\n",
    "class Rectangle:\n",
    "    def __init__(self,length,width):\n",
    "        self.length = length\n",
    "        self.width = width\n",
    "        print(\"矩形的初始化已執行\")\n",
    "    \n",
    "class Square(Rectangle):\n",
    "    def __init__(self, length, width):\n",
    "        super().__init__(length, width)\n",
    "        print(\"正方形的初始化已執行\")\n",
    "        \n",
    "square = Square(500,500)"
   ]
  },
  {
   "cell_type": "code",
   "execution_count": 8,
   "id": "378530b1",
   "metadata": {},
   "outputs": [
    {
     "name": "stdout",
     "output_type": "stream",
     "text": [
      "矩形的初始化已執行\n",
      "立方體的長寬高是10,20,30\n"
     ]
    }
   ],
   "source": [
    "class Cube(Rectangle):\n",
    "    def __init__(self,length,width,height):\n",
    "        super().__init__(length,width)\n",
    "        self.height = height\n",
    "        print(f\"立方體的長寬高是{length},{width},{height}\")\n",
    "\n",
    "cube = Cube(10,20,30)"
   ]
  }
 ],
 "metadata": {
  "kernelspec": {
   "display_name": "Python 3",
   "language": "python",
   "name": "python3"
  },
  "language_info": {
   "codemirror_mode": {
    "name": "ipython",
    "version": 3
   },
   "file_extension": ".py",
   "mimetype": "text/x-python",
   "name": "python",
   "nbconvert_exporter": "python",
   "pygments_lexer": "ipython3",
   "version": "3.10.11"
  }
 },
 "nbformat": 4,
 "nbformat_minor": 5
}
