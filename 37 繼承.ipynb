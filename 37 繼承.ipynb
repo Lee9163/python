{
 "cells": [
  {
   "cell_type": "code",
   "execution_count": 6,
   "id": "c6efd700",
   "metadata": {},
   "outputs": [],
   "source": [
    "#python中的繼承\n",
    "#父類別<=>子類別\n",
    "\n",
    "#動物\n",
    "class Animal:\n",
    "    alive = True\n",
    "    \n",
    "    def eat(self):\n",
    "        print(\"這個動物正在吃東西\")\n",
    "    def sleep(self):\n",
    "        print(\"這個動物正在睡覺\")"
   ]
  },
  {
   "cell_type": "code",
   "execution_count": 7,
   "id": "4c199868",
   "metadata": {},
   "outputs": [],
   "source": [
    "#兔子\n",
    "class Rabbit(Animal):\n",
    "    def jump(self):\n",
    "        print(\"這隻兔子正在跳\")"
   ]
  },
  {
   "cell_type": "code",
   "execution_count": 8,
   "id": "b72f257e",
   "metadata": {},
   "outputs": [],
   "source": [
    "#魚\n",
    "class Fish(Animal):\n",
    "    def swim(self):\n",
    "        print(\"這隻魚正在游\")"
   ]
  },
  {
   "cell_type": "code",
   "execution_count": 9,
   "id": "d2de2cf0",
   "metadata": {},
   "outputs": [],
   "source": [
    "#老鷹\n",
    "class Hawk(Animal):\n",
    "    def fly(self):\n",
    "        print(\"這隻老鷹正在飛\")"
   ]
  },
  {
   "cell_type": "code",
   "execution_count": 10,
   "id": "cc593f4b",
   "metadata": {},
   "outputs": [],
   "source": [
    "animal = Animal()\n",
    "rabbit = Rabbit()\n",
    "fish = Fish()\n",
    "hawk = Hawk()"
   ]
  },
  {
   "cell_type": "code",
   "execution_count": 14,
   "id": "b287a315",
   "metadata": {},
   "outputs": [
    {
     "name": "stdout",
     "output_type": "stream",
     "text": [
      "這個動物正在睡覺\n",
      "這個動物正在睡覺\n",
      "這隻老鷹正在飛\n"
     ]
    }
   ],
   "source": [
    "animal.sleep()\n",
    "fish.sleep()\n",
    "hawk.fly()"
   ]
  }
 ],
 "metadata": {
  "kernelspec": {
   "display_name": "Python 3",
   "language": "python",
   "name": "python3"
  },
  "language_info": {
   "codemirror_mode": {
    "name": "ipython",
    "version": 3
   },
   "file_extension": ".py",
   "mimetype": "text/x-python",
   "name": "python",
   "nbconvert_exporter": "python",
   "pygments_lexer": "ipython3",
   "version": "3.10.11"
  }
 },
 "nbformat": 4,
 "nbformat_minor": 5
}
