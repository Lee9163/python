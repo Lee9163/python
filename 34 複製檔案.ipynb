{
 "cells": [
  {
   "cell_type": "code",
   "execution_count": 3,
   "id": "9c8f0946",
   "metadata": {},
   "outputs": [
    {
     "data": {
      "text/plain": [
       "'/Users/lizongjing/Desktop/python/detination file.txt'"
      ]
     },
     "execution_count": 3,
     "metadata": {},
     "output_type": "execute_result"
    }
   ],
   "source": [
    "import shutil\n",
    "#copyfile\n",
    "#copy\n",
    "#copy2\n",
    "\n",
    "w = r\"/Users/lizongjing/Desktop/python\"\n",
    "source = f\"{w}/source file.txt\"\n",
    "destination = f\"{w}/detination file.txt\"\n",
    "shutil.copyfile(source,destination)\n",
    "\n",
    "#shutil.copyfile(src, dst)\t只複製內容，不複製 metadata（例如檔案權限、時間戳等）。\n",
    "#shutil.copy(src, dst)\t複製內容 + 檔名、基本 metadata（如權限）\n",
    "#shutil.copy2(src, dst)\t複製內容 + 完整 metadata（包含原始建立、修改時間）\n",
    "\n"
   ]
  }
 ],
 "metadata": {
  "kernelspec": {
   "display_name": "Python 3",
   "language": "python",
   "name": "python3"
  },
  "language_info": {
   "codemirror_mode": {
    "name": "ipython",
    "version": 3
   },
   "file_extension": ".py",
   "mimetype": "text/x-python",
   "name": "python",
   "nbconvert_exporter": "python",
   "pygments_lexer": "ipython3",
   "version": "3.10.11"
  }
 },
 "nbformat": 4,
 "nbformat_minor": 5
}
