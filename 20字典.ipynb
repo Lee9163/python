{
 "cells": [
  {
   "cell_type": "code",
   "execution_count": 23,
   "metadata": {},
   "outputs": [
    {
     "name": "stdout",
     "output_type": "stream",
     "text": [
      "Tokyo\n",
      "Paris\n"
     ]
    }
   ],
   "source": [
    "#字典\n",
    "capital={\n",
    "    \"US\":\"華盛頓DC\",\n",
    "    \"Japan\":\"Tokyo\",\n",
    "    \"France\":\"Paris\",\n",
    "    \"Russia\":\"Moscow\"\n",
    "}\n",
    "\n",
    "#get()取得鍵值對\n",
    "print(capital.get(\"Japan\"))\n",
    "print(capital.get(\"France\"))"
   ]
  },
  {
   "cell_type": "code",
   "execution_count": 24,
   "metadata": {},
   "outputs": [
    {
     "name": "stdout",
     "output_type": "stream",
     "text": [
      "{'US': '華盛頓DC', 'Japan': 'Tokyo', 'France': 'Paris', 'Russia': 'Moscow', 'Germany': 'BerLin'}\n"
     ]
    }
   ],
   "source": [
    "#update()更新鍵值對\n",
    "capital.update({\"Germany\":\"BerLin\"})\n",
    "print(capital)"
   ]
  },
  {
   "cell_type": "code",
   "execution_count": 25,
   "metadata": {},
   "outputs": [
    {
     "name": "stdout",
     "output_type": "stream",
     "text": [
      "{'Japan': 'Tokyo', 'France': 'Paris', 'Russia': 'Moscow', 'Germany': 'BerLin'}\n"
     ]
    }
   ],
   "source": [
    "#pop()刪除鍵值對\n",
    "capital.pop(\"US\")\n",
    "print(capital)"
   ]
  },
  {
   "cell_type": "code",
   "execution_count": 26,
   "metadata": {},
   "outputs": [
    {
     "name": "stdout",
     "output_type": "stream",
     "text": [
      "dict_values(['Tokyo', 'Paris', 'Moscow', 'BerLin'])\n"
     ]
    }
   ],
   "source": [
    "#values()獲得所有值\n",
    "print(capital.values())"
   ]
  },
  {
   "cell_type": "code",
   "execution_count": 27,
   "metadata": {},
   "outputs": [
    {
     "name": "stdout",
     "output_type": "stream",
     "text": [
      "dict_items([('Japan', 'Tokyo'), ('France', 'Paris'), ('Russia', 'Moscow'), ('Germany', 'BerLin')])\n"
     ]
    }
   ],
   "source": [
    "#items() 獲得所有鍵值對\n",
    "print(capital.items())"
   ]
  }
 ],
 "metadata": {
  "kernelspec": {
   "display_name": "Python 3",
   "language": "python",
   "name": "python3"
  },
  "language_info": {
   "codemirror_mode": {
    "name": "ipython",
    "version": 3
   },
   "file_extension": ".py",
   "mimetype": "text/x-python",
   "name": "python",
   "nbconvert_exporter": "python",
   "pygments_lexer": "ipython3",
   "version": "3.11.9"
  }
 },
 "nbformat": 4,
 "nbformat_minor": 2
}
