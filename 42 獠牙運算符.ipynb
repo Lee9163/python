{
 "cells": [
  {
   "cell_type": "code",
   "execution_count": null,
   "id": "bfba6c8b",
   "metadata": {},
   "outputs": [
    {
     "name": "stdout",
     "output_type": "stream",
     "text": [
      "True\n"
     ]
    }
   ],
   "source": [
    "#python 獠牙運算符 ：＝\n",
    "\n",
    "#獠牙運算符\n",
    "#賦值表達式：＝\n",
    "#賦值運算子 ＝\n",
    "\n",
    "happy = True\n",
    "print(happy)"
   ]
  },
  {
   "cell_type": "code",
   "execution_count": 3,
   "id": "07c64e60",
   "metadata": {},
   "outputs": [
    {
     "name": "stdout",
     "output_type": "stream",
     "text": [
      "False\n"
     ]
    }
   ],
   "source": [
    "print (happy:= False)"
   ]
  },
  {
   "cell_type": "code",
   "execution_count": 4,
   "id": "2be5086c",
   "metadata": {},
   "outputs": [
    {
     "name": "stdout",
     "output_type": "stream",
     "text": [
      "['g', 'd', 'sas', 'wef']\n"
     ]
    }
   ],
   "source": [
    "foods = []\n",
    "while True:\n",
    "    food = input(\"請輸入你想吃的食物\")\n",
    "    if food == \"quit\":\n",
    "        break\n",
    "    foods.append(food)\n",
    "\n",
    "print(foods)"
   ]
  },
  {
   "cell_type": "code",
   "execution_count": 5,
   "id": "5410c428",
   "metadata": {},
   "outputs": [
    {
     "name": "stdout",
     "output_type": "stream",
     "text": [
      "['f', 'qwd', 'htr', 'utyj', 'wefs', 'xv']\n"
     ]
    }
   ],
   "source": [
    "foods = []\n",
    "while food := input(\"請輸入你想吃的食物\"):\n",
    "    if food == \"quit\":\n",
    "        break\n",
    "    foods.append(food)\n",
    "\n",
    "print(foods)"
   ]
  },
  {
   "cell_type": "code",
   "execution_count": 7,
   "id": "bd70d7ba",
   "metadata": {},
   "outputs": [
    {
     "name": "stdout",
     "output_type": "stream",
     "text": [
      "['sc', 'qd', 'qwed', '', 'adc']\n"
     ]
    }
   ],
   "source": [
    "foods = []\n",
    "while (food := input(\"請輸入你想吃的食物\")) != 'quit':\n",
    "    foods.append(food)\n",
    "\n",
    "print(foods)"
   ]
  }
 ],
 "metadata": {
  "kernelspec": {
   "display_name": "Python 3",
   "language": "python",
   "name": "python3"
  },
  "language_info": {
   "codemirror_mode": {
    "name": "ipython",
    "version": 3
   },
   "file_extension": ".py",
   "mimetype": "text/x-python",
   "name": "python",
   "nbconvert_exporter": "python",
   "pygments_lexer": "ipython3",
   "version": "3.10.11"
  }
 },
 "nbformat": 4,
 "nbformat_minor": 5
}
