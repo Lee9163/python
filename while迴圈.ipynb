{
 "cells": [
  {
   "cell_type": "code",
   "execution_count": 4,
   "metadata": {},
   "outputs": [
    {
     "name": "stdout",
     "output_type": "stream",
     "text": [
      "沒有輸入名字\n"
     ]
    }
   ],
   "source": [
    "#While迴圈\n",
    "name = input(\"請輸入你的名字\")\n",
    "if name ==\"\":\n",
    "    print(\"沒有輸入名字\")\n",
    "else:\n",
    "    print(f\"你好{name}\")\n"
   ]
  },
  {
   "cell_type": "code",
   "execution_count": 7,
   "metadata": {},
   "outputs": [
    {
     "name": "stdout",
     "output_type": "stream",
     "text": [
      "歡迎5\n"
     ]
    }
   ],
   "source": [
    "#改寫\n",
    "name = input(\"請輸入你的名字\")\n",
    "while name ==\"\":\n",
    "    name=input(\"請輸入你的名字\")\n",
    "print(f\"歡迎{name}\")"
   ]
  },
  {
   "cell_type": "code",
   "execution_count": 8,
   "metadata": {},
   "outputs": [
    {
     "name": "stdout",
     "output_type": "stream",
     "text": [
      "歡迎2\n"
     ]
    }
   ],
   "source": [
    "#進一步改寫\n",
    "name = \"\"\n",
    "while name ==\"\":\n",
    "    name=input(\"請輸入你的名字\")\n",
    "print(f\"歡迎{name}\")"
   ]
  },
  {
   "cell_type": "code",
   "execution_count": 10,
   "metadata": {},
   "outputs": [
    {
     "name": "stdout",
     "output_type": "stream",
     "text": [
      "掰掰\n"
     ]
    }
   ],
   "source": [
    "food = input(\"請輸入你喜歡的食物\")\n",
    "while food !=\"q\":\n",
    "    print(f\"你喜歡的食物是{food}\")\n",
    "    food=input(\"請輸入你喜歡的食物\")\n",
    "print(\"掰掰\")"
   ]
  },
  {
   "cell_type": "code",
   "execution_count": 13,
   "metadata": {},
   "outputs": [
    {
     "name": "stdout",
     "output_type": "stream",
     "text": [
      "數字不在0~10\n",
      "數字不在0~10\n",
      "數字不在0~10\n",
      "1\n"
     ]
    }
   ],
   "source": [
    "#'<' not supported between instances of 'str' and 'int'\n",
    "#不能用<比較一個字串（str）和一個整數（int）\n",
    "num=int(input(\"請輸入一個0~10的數字\"))\n",
    "while num<0 or num>10:\n",
    "    print(\"數字不在0~10\")\n",
    "    num=int(input(\"請輸入一個0~10的數字\"))\n",
    "print(num)"
   ]
  }
 ],
 "metadata": {
  "kernelspec": {
   "display_name": "Python 3",
   "language": "python",
   "name": "python3"
  },
  "language_info": {
   "codemirror_mode": {
    "name": "ipython",
    "version": 3
   },
   "file_extension": ".py",
   "mimetype": "text/x-python",
   "name": "python",
   "nbconvert_exporter": "python",
   "pygments_lexer": "ipython3",
   "version": "3.11.9"
  }
 },
 "nbformat": 4,
 "nbformat_minor": 2
}
