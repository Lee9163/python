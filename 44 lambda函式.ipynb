{
 "cells": [
  {
   "cell_type": "code",
   "execution_count": null,
   "id": "6d301b47",
   "metadata": {},
   "outputs": [
    {
     "name": "stdout",
     "output_type": "stream",
     "text": [
      "12\n"
     ]
    }
   ],
   "source": [
    "#lambda有函式功能 且一行就能寫完\n",
    "#Ex1\n",
    "def double(x):\n",
    "    return x * 2\n",
    "print(double(6))\n",
    "\n",
    "\n",
    "double2 = lambda x:x*2\n",
    "print(double(50))"
   ]
  },
  {
   "cell_type": "code",
   "execution_count": 3,
   "id": "a1fccc27",
   "metadata": {},
   "outputs": [
    {
     "name": "stdout",
     "output_type": "stream",
     "text": [
      "1170\n"
     ]
    }
   ],
   "source": [
    "#Ex2\n",
    "multipe = lambda x,y:x*y\n",
    "print(multipe(5,234))"
   ]
  },
  {
   "cell_type": "code",
   "execution_count": 6,
   "id": "70519560",
   "metadata": {},
   "outputs": [
    {
     "name": "stdout",
     "output_type": "stream",
     "text": [
      "317是奇數\n"
     ]
    }
   ],
   "source": [
    "#Ex3 if else條件語句\n",
    "\n",
    "result = lambda x:f\"{x}是偶數\" if x % 2 == 0 else f\"{x}是奇數\" \n",
    "print(result(317))"
   ]
  },
  {
   "cell_type": "code",
   "execution_count": 9,
   "id": "c7c79aac",
   "metadata": {},
   "outputs": [
    {
     "name": "stdout",
     "output_type": "stream",
     "text": [
      "dennylee\n"
     ]
    }
   ],
   "source": [
    "#Ex4 處理字串\n",
    "full_name = lambda first_name,last_name:f\"{first_name}{last_name}\"\n",
    "print(full_name(\"denny\",\"lee\"))"
   ]
  }
 ],
 "metadata": {
  "kernelspec": {
   "display_name": "Python 3",
   "language": "python",
   "name": "python3"
  },
  "language_info": {
   "codemirror_mode": {
    "name": "ipython",
    "version": 3
   },
   "file_extension": ".py",
   "mimetype": "text/x-python",
   "name": "python",
   "nbconvert_exporter": "python",
   "pygments_lexer": "ipython3",
   "version": "3.10.11"
  }
 },
 "nbformat": 4,
 "nbformat_minor": 5
}
