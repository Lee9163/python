{
 "cells": [
  {
   "cell_type": "code",
   "execution_count": 1,
   "id": "2a5a8e06",
   "metadata": {},
   "outputs": [
    {
     "name": "stdout",
     "output_type": "stream",
     "text": [
      "你啟動了引擎\n",
      "你在開車了\n",
      "你踩了煞車\n",
      "你關閉了引擎\n"
     ]
    },
    {
     "data": {
      "text/plain": [
       "<__main__.Car at 0x1065ad630>"
      ]
     },
     "execution_count": 1,
     "metadata": {},
     "output_type": "execute_result"
    }
   ],
   "source": [
    "class Car:\n",
    "    def turn_on(self):\n",
    "        print(\"你啟動了引擎\")\n",
    "        #回傳物件本身\n",
    "        return self\n",
    "    \n",
    "    def drive(self):\n",
    "        print(\"你在開車了\")\n",
    "        return self\n",
    "    \n",
    "    def brake(self):\n",
    "        print(\"你踩了煞車\")\n",
    "        return self\n",
    "    \n",
    "    def turn_off(self):\n",
    "        print(\"你關閉了引擎\")\n",
    "        return self\n",
    "    \n",
    "car = Car()\n",
    "car.turn_on().drive().brake().turn_off()"
   ]
  }
 ],
 "metadata": {
  "kernelspec": {
   "display_name": "Python 3",
   "language": "python",
   "name": "python3"
  },
  "language_info": {
   "codemirror_mode": {
    "name": "ipython",
    "version": 3
   },
   "file_extension": ".py",
   "mimetype": "text/x-python",
   "name": "python",
   "nbconvert_exporter": "python",
   "pygments_lexer": "ipython3",
   "version": "3.10.11"
  }
 },
 "nbformat": 4,
 "nbformat_minor": 5
}
