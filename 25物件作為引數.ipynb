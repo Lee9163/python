{
 "cells": [
  {
   "cell_type": "code",
   "execution_count": 5,
   "id": "6cc4e4ac",
   "metadata": {},
   "outputs": [
    {
     "name": "stdout",
     "output_type": "stream",
     "text": [
      "None\n",
      "None\n",
      "None\n",
      "紅色\n",
      "綠色\n",
      "金色\n"
     ]
    }
   ],
   "source": [
    "#物件當作引數\n",
    "\n",
    "class Car:\n",
    "    colar = None\n",
    "    \n",
    "def change_colar(car,colar):\n",
    "    car.colar = colar\n",
    "    \n",
    "car1 = Car()\n",
    "car2 = Car()\n",
    "car3 = Car()\n",
    "\n",
    "print(car1.colar)\n",
    "print(car2.colar)\n",
    "print(car3.colar)\n",
    "\n",
    "change_colar(car1,\"紅色\")\n",
    "change_colar(car2,\"綠色\")\n",
    "change_colar(car3,\"金色\")\n",
    "\n",
    "print(car1.colar)\n",
    "print(car2.colar)\n",
    "print(car3.colar)"
   ]
  }
 ],
 "metadata": {
  "kernelspec": {
   "display_name": "Python 3",
   "language": "python",
   "name": "python3"
  },
  "language_info": {
   "codemirror_mode": {
    "name": "ipython",
    "version": 3
   },
   "file_extension": ".py",
   "mimetype": "text/x-python",
   "name": "python",
   "nbconvert_exporter": "python",
   "pygments_lexer": "ipython3",
   "version": "3.10.11"
  }
 },
 "nbformat": 4,
 "nbformat_minor": 5
}
